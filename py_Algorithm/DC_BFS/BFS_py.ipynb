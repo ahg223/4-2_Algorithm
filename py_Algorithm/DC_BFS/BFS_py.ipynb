{
 "cells": [
  {
   "cell_type": "markdown",
   "metadata": {},
   "source": [
    "전역 변수"
   ]
  },
  {
   "cell_type": "code",
   "execution_count": 1,
   "metadata": {},
   "outputs": [],
   "source": [
    "Graph=[[0 for j in range(100)] for i in range(100)]\n",
    "Graph_value=[0 for i in range(100)]\n",
    "BFSvisit=[0 for i in range(100)]\n",
    "queue=[0 for i in range(100)]"
   ]
  },
  {
   "cell_type": "markdown",
   "metadata": {},
   "source": [
    "Queue print 함수"
   ]
  },
  {
   "cell_type": "code",
   "execution_count": 2,
   "metadata": {},
   "outputs": [],
   "source": [
    "def print_Queue(front, rear):\n",
    "    global Graph\n",
    "    global Graph_value\n",
    "    global BFSvisit\n",
    "    global queue\n",
    "    print()\n",
    "    while True:\n",
    "        if front==rear: break\n",
    "        print(\"%d \"%Graph_value[queue[front]],end=\" \")\n",
    "        front=front+1"
   ]
  },
  {
   "cell_type": "markdown",
   "metadata": {},
   "source": [
    "BFS 함수"
   ]
  },
  {
   "cell_type": "code",
   "execution_count": 3,
   "metadata": {},
   "outputs": [],
   "source": [
    "def BFS(v, N, Result):\n",
    "    global Graph\n",
    "    global Graph_value\n",
    "    global BFSvisit\n",
    "    global queue\n",
    "    front=0\n",
    "    rear=0\n",
    "    \n",
    "    print(\"%d \"%v,end=\" \")\n",
    "    queue[0]=v\n",
    "    rear+=1\n",
    "    BFSvisit[v]=1\n",
    "    while(front<rear):\n",
    "        pop=queue[front]\n",
    "        front+=1\n",
    "        print(\"pop: %d\"%Graph_value[pop])\n",
    "        if pop==Result: break\n",
    "        \n",
    "        for i in range(1,N+1):\n",
    "            if Graph[pop][i]==1 and BFSvisit[i]==0:\n",
    "                queue[rear]=i\n",
    "                rear+=1\n",
    "                BFSvisit[i]=1\n",
    "        print_Queue(front,rear)"
   ]
  },
  {
   "cell_type": "markdown",
   "metadata": {},
   "source": [
    "메인 함수"
   ]
  },
  {
   "cell_type": "code",
   "execution_count": 4,
   "metadata": {},
   "outputs": [
    {
     "name": "stdout",
     "output_type": "stream",
     "text": [
      "노드의 숫자, edge의 갯수, 시작하는 노드의 숫자를 순서대로 입력해주세요\n",
      "노드는 0번은 없고 1번부터 시작합니다. 숫자는 1000 이하의 숫자이어야 합니다\n",
      "노드의 숫자12\n",
      "edge의 개수11\n",
      "시작하는 노드 인덱스1\n",
      "edge의 양 끝 노드의 인덱스를 입력하세요. 노드는 1번부터 시작합니다1\n",
      "edge의 양 끝 노드의 인덱스를 입력하세요. 노드는 1번부터 시작합니다2\n",
      "Graph[1][2]에 edge가 생겼습니다\n",
      "edge의 양 끝 노드의 인덱스를 입력하세요. 노드는 1번부터 시작합니다1\n",
      "edge의 양 끝 노드의 인덱스를 입력하세요. 노드는 1번부터 시작합니다7\n",
      "Graph[1][7]에 edge가 생겼습니다\n",
      "edge의 양 끝 노드의 인덱스를 입력하세요. 노드는 1번부터 시작합니다1\n",
      "edge의 양 끝 노드의 인덱스를 입력하세요. 노드는 1번부터 시작합니다8\n",
      "Graph[1][8]에 edge가 생겼습니다\n",
      "edge의 양 끝 노드의 인덱스를 입력하세요. 노드는 1번부터 시작합니다2\n",
      "edge의 양 끝 노드의 인덱스를 입력하세요. 노드는 1번부터 시작합니다3\n",
      "Graph[2][3]에 edge가 생겼습니다\n",
      "edge의 양 끝 노드의 인덱스를 입력하세요. 노드는 1번부터 시작합니다2\n",
      "edge의 양 끝 노드의 인덱스를 입력하세요. 노드는 1번부터 시작합니다6\n",
      "Graph[2][6]에 edge가 생겼습니다\n",
      "edge의 양 끝 노드의 인덱스를 입력하세요. 노드는 1번부터 시작합니다3\n",
      "edge의 양 끝 노드의 인덱스를 입력하세요. 노드는 1번부터 시작합니다4\n",
      "Graph[3][4]에 edge가 생겼습니다\n",
      "edge의 양 끝 노드의 인덱스를 입력하세요. 노드는 1번부터 시작합니다3\n",
      "edge의 양 끝 노드의 인덱스를 입력하세요. 노드는 1번부터 시작합니다5\n",
      "Graph[3][5]에 edge가 생겼습니다\n",
      "edge의 양 끝 노드의 인덱스를 입력하세요. 노드는 1번부터 시작합니다8\n",
      "edge의 양 끝 노드의 인덱스를 입력하세요. 노드는 1번부터 시작합니다9\n",
      "Graph[8][9]에 edge가 생겼습니다\n",
      "edge의 양 끝 노드의 인덱스를 입력하세요. 노드는 1번부터 시작합니다8\n",
      "edge의 양 끝 노드의 인덱스를 입력하세요. 노드는 1번부터 시작합니다12\n",
      "Graph[8][12]에 edge가 생겼습니다\n",
      "edge의 양 끝 노드의 인덱스를 입력하세요. 노드는 1번부터 시작합니다9\n",
      "edge의 양 끝 노드의 인덱스를 입력하세요. 노드는 1번부터 시작합니다10\n",
      "Graph[9][10]에 edge가 생겼습니다\n",
      "edge의 양 끝 노드의 인덱스를 입력하세요. 노드는 1번부터 시작합니다9\n",
      "edge의 양 끝 노드의 인덱스를 입력하세요. 노드는 1번부터 시작합니다11\n",
      "Graph[9][11]에 edge가 생겼습니다\n",
      " 1 번째 노드의 값을 입력하세요\n",
      " 단 0은 입력할 수 없습니다\n",
      "1\n",
      " 2 번째 노드의 값을 입력하세요\n",
      " 단 0은 입력할 수 없습니다\n",
      "2\n",
      " 3 번째 노드의 값을 입력하세요\n",
      " 단 0은 입력할 수 없습니다\n",
      "3\n",
      " 4 번째 노드의 값을 입력하세요\n",
      " 단 0은 입력할 수 없습니다\n",
      "4\n",
      " 5 번째 노드의 값을 입력하세요\n",
      " 단 0은 입력할 수 없습니다\n",
      "5\n",
      " 6 번째 노드의 값을 입력하세요\n",
      " 단 0은 입력할 수 없습니다\n",
      "6\n",
      " 7 번째 노드의 값을 입력하세요\n",
      " 단 0은 입력할 수 없습니다\n",
      "7\n",
      " 8 번째 노드의 값을 입력하세요\n",
      " 단 0은 입력할 수 없습니다\n",
      "8\n",
      " 9 번째 노드의 값을 입력하세요\n",
      " 단 0은 입력할 수 없습니다\n",
      "9\n",
      " 10 번째 노드의 값을 입력하세요\n",
      " 단 0은 입력할 수 없습니다\n",
      "10\n",
      " 11 번째 노드의 값을 입력하세요\n",
      " 단 0은 입력할 수 없습니다\n",
      "11\n",
      " 12 번째 노드의 값을 입력하세요\n",
      " 단 0은 입력할 수 없습니다\n",
      "12\n",
      "찾는 값을 입력해주세요9\n",
      "1  pop: 1\n",
      "\n",
      "2  7  8  pop: 2\n",
      "\n",
      "7  8  3  6  pop: 7\n",
      "\n",
      "8  3  6  pop: 8\n",
      "\n",
      "3  6  9  12  pop: 3\n",
      "\n",
      "6  9  12  4  5  pop: 6\n",
      "\n",
      "9  12  4  5  pop: 9\n"
     ]
    }
   ],
   "source": [
    "print(\"노드의 숫자, edge의 갯수, 시작하는 노드의 숫자를 순서대로 입력해주세요\")\n",
    "print(\"노드는 0번은 없고 1번부터 시작합니다. 숫자는 1000 이하의 숫자이어야 합니다\")\n",
    "N=int(input(\"노드의 숫자\"))\n",
    "M=int(input(\"edge의 개수\"))\n",
    "Start=int(input(\"시작하는 노드 인덱스\"))\n",
    "\n",
    "for i in range(1,M+1):\n",
    "    x=int(input(\"edge의 양 끝 노드의 인덱스를 입력하세요. 노드는 1번부터 시작합니다\"))\n",
    "    y=int(input(\"edge의 양 끝 노드의 인덱스를 입력하세요. 노드는 1번부터 시작합니다\"))\n",
    "    print(\"Graph[%d][%d]에 edge가 생겼습니다\"%(x,y))\n",
    "    Graph[x][y]=1\n",
    "    Graph[y][x]=1\n",
    "    \n",
    "for i in range(1,N+1):\n",
    "    Graph_value[i]=int(input(\" %d 번째 노드의 값을 입력하세요\\n 단 0은 입력할 수 없습니다\\n\"%i))\n",
    "\n",
    "Result=int(input(\"찾는 값을 입력해주세요\"))\n",
    "BFS(Start,N,Result)\n"
   ]
  }
 ],
 "metadata": {
  "kernelspec": {
   "display_name": "Python 3",
   "language": "python",
   "name": "python3"
  },
  "language_info": {
   "codemirror_mode": {
    "name": "ipython",
    "version": 3
   },
   "file_extension": ".py",
   "mimetype": "text/x-python",
   "name": "python",
   "nbconvert_exporter": "python",
   "pygments_lexer": "ipython3",
   "version": "3.7.0"
  }
 },
 "nbformat": 4,
 "nbformat_minor": 2
}
