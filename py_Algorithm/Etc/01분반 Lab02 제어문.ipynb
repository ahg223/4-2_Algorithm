{
 "cells": [
  {
   "cell_type": "markdown",
   "metadata": {},
   "source": [
    "01분반 Lab2 제어문"
   ]
  },
  {
   "cell_type": "markdown",
   "metadata": {},
   "source": [
    "제어문 빈칸"
   ]
  },
  {
   "cell_type": "code",
   "execution_count": 3,
   "metadata": {},
   "outputs": [
    {
     "name": "stdout",
     "output_type": "stream",
     "text": [
      "원하는 메뉴를 입력하세요: 1번\n",
      "원하는 메뉴를 입력하세요: 2번\n",
      "원하는 메뉴를 입력하세요: 3번\n",
      "원하는 메뉴를 입력하세요: 4번\n",
      "4\n",
      "['1번', '2번', '3번', '4번']\n",
      "성균아! 오늘의 메뉴는 4번! 맛있는 식사하렴~\n"
     ]
    }
   ],
   "source": [
    "import random\n",
    "menu=[]\n",
    "for i in range(1,5):\n",
    "    choice = input(\"원하는 메뉴를 입력하세요: \")\n",
    "    menu.append(choice)\n",
    "\n",
    "x= random.randrange(1,5)\n",
    "\n",
    "print(\"성균아! 오늘의 메뉴는 %s! 맛있는 식사하렴~\"%menu[x-1])"
   ]
  },
  {
   "cell_type": "markdown",
   "metadata": {},
   "source": [
    "제어문 실습"
   ]
  },
  {
   "cell_type": "code",
   "execution_count": 4,
   "metadata": {},
   "outputs": [
    {
     "name": "stdout",
     "output_type": "stream",
     "text": [
      "1일차근무시간을 입력하세요: 8\n",
      "2일차근무시간을 입력하세요: 8\n",
      "3일차근무시간을 입력하세요: 8\n",
      "4일차근무시간을 입력하세요: 8\n",
      "5일차근무시간을 입력하세요: 9\n",
      "귀하가 수령할 주급은 415000원 입니다.\n"
     ]
    }
   ],
   "source": [
    "total=0\n",
    "for i in range(1,6):\n",
    "    print(\"%d일차\"%i,end=\" \")\n",
    "    time=int(input(\"근무시간을 입력하세요: \"))\n",
    "    if 9>time:\n",
    "        money=time*10000\n",
    "    else:\n",
    "        money=(8*10000)+((time-8)*15000)\n",
    "    total+=money\n",
    "print(\"귀하가 수령할 주급은 %d원 입니다.\"%total)"
   ]
  },
  {
   "cell_type": "markdown",
   "metadata": {},
   "source": [
    "제어문 과제"
   ]
  },
  {
   "cell_type": "code",
   "execution_count": 10,
   "metadata": {},
   "outputs": [
    {
     "name": "stdout",
     "output_type": "stream",
     "text": [
      "1일차 근무시간을 입력하세요: 8\n",
      "2일차 근무시간을 입력하세요: 8\n",
      "3일차 근무시간을 입력하세요: 8\n",
      "4일차 근무시간을 입력하세요: 8\n",
      "5일차 근무시간을 입력하세요: 10\n",
      "초과 근무 일 수를 입력하세요: 4\n",
      "잘못 입력하셨습니다\n",
      "귀하가 수령할 주급은 430000원 입니다.\n"
     ]
    }
   ],
   "source": [
    "total=0\n",
    "for i in range(1,6):\n",
    "    print(\"%d일차\"%i,end=\" \")\n",
    "    time=int(input(\"근무시간을 입력하세요: \"))\n",
    "    if 9>time:\n",
    "        money=time*10000\n",
    "    else:\n",
    "        money=(8*10000)+((time-8)*15000)\n",
    "    total+=money\n",
    "    \n",
    "over=int(input(\"초과 근무 일 수를 입력하세요: \"))\n",
    "if over>2:\n",
    "    print(\"잘못 입력하셨습니다\")\n",
    "elif over==0:\n",
    "    print(\"초과 근무일이 없습니다\")\n",
    "else:\n",
    "    for i in range(1,over+1):\n",
    "        print(\"초과 %d일차 \"%i,end='')\n",
    "        time=int(input(\"근무시간을 입력하세요: \"))\n",
    "        money=time*15000\n",
    "        total+=money\n",
    "        \n",
    "print(\"귀하가 수령할 주급은 %d원 입니다.\"%total)"
   ]
  }
 ],
 "metadata": {
  "kernelspec": {
   "display_name": "Python 3",
   "language": "python",
   "name": "python3"
  },
  "language_info": {
   "codemirror_mode": {
    "name": "ipython",
    "version": 3
   },
   "file_extension": ".py",
   "mimetype": "text/x-python",
   "name": "python",
   "nbconvert_exporter": "python",
   "pygments_lexer": "ipython3",
   "version": "3.7.0"
  }
 },
 "nbformat": 4,
 "nbformat_minor": 2
}
