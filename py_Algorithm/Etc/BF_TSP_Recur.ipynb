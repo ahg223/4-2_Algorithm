{
 "cells": [
  {
   "cell_type": "markdown",
   "metadata": {},
   "source": [
    "TSP Brutal Force by Recursive"
   ]
  },
  {
   "cell_type": "code",
   "execution_count": 81,
   "metadata": {},
   "outputs": [],
   "source": [
    "INT_MAX = 2147483647\n",
    "visited=[0 for i in range (11)]\n",
    "Min=INT_MAX"
   ]
  },
  {
   "cell_type": "code",
   "execution_count": 82,
   "metadata": {},
   "outputs": [],
   "source": [
    "def min(x,y):\n",
    "    if x>y: \n",
    "        return y\n",
    "    else: \n",
    "        return x"
   ]
  },
  {
   "cell_type": "code",
   "execution_count": 83,
   "metadata": {},
   "outputs": [],
   "source": [
    "def tsp(Next, total, Recur):\n",
    "    global Min\n",
    "    global visited\n",
    "    if Recur==MAX:\n",
    "        if TSP[Next][1] != 0:\n",
    "            Min=min(Min,total+TSP[Next][1])\n",
    "            return\n",
    "        \n",
    "    visited[Next]=True;\n",
    "    for i in range(1,MAX+1):\n",
    "        if visited[i] == False and TSP[Next][i] != 0:\n",
    "            tsp(i,total+TSP[Next][i],Recur+1)\n",
    "            \n",
    "    visited[Next]=False"
   ]
  },
  {
   "cell_type": "code",
   "execution_count": 87,
   "metadata": {},
   "outputs": [
    {
     "name": "stdout",
     "output_type": "stream",
     "text": [
      "How many city in there? 4\n",
      "0\n",
      "10\n",
      "15\n",
      "20\n",
      "5\n",
      "0\n",
      "9\n",
      "10\n",
      "6\n",
      "13\n",
      "0\n",
      "12\n",
      "8\n",
      "8\n",
      "9\n",
      "0\n",
      "35\n"
     ]
    }
   ],
   "source": [
    "#global Min\n",
    "\n",
    "MAX=int(input(\"How many city in there? \"))\n",
    "TSP = [[0]*(11) for i in range(11)]\n",
    "\n",
    "for i in range(1,MAX+1):\n",
    "    for j in range(1,MAX+1):\n",
    "        TSP[i][j]=int(input())\n",
    "\n",
    "tsp(1,0,1)\n",
    "print(Min)"
   ]
  }
 ],
 "metadata": {
  "kernelspec": {
   "display_name": "Python 3",
   "language": "python",
   "name": "python3"
  },
  "language_info": {
   "codemirror_mode": {
    "name": "ipython",
    "version": 3
   },
   "file_extension": ".py",
   "mimetype": "text/x-python",
   "name": "python",
   "nbconvert_exporter": "python",
   "pygments_lexer": "ipython3",
   "version": "3.7.0"
  }
 },
 "nbformat": 4,
 "nbformat_minor": 2
}
