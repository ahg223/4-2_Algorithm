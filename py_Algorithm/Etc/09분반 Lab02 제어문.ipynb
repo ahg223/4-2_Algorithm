{
 "cells": [
  {
   "cell_type": "markdown",
   "metadata": {},
   "source": [
    "09분반 Lab2 제어문"
   ]
  },
  {
   "cell_type": "markdown",
   "metadata": {},
   "source": [
    "제어문 빈칸"
   ]
  },
  {
   "cell_type": "code",
   "execution_count": 3,
   "metadata": {},
   "outputs": [
    {
     "name": "stdout",
     "output_type": "stream",
     "text": [
      "원하는 메뉴를 입력하세요: 1번\n",
      "원하는 메뉴를 입력하세요: 2번\n",
      "원하는 메뉴를 입력하세요: 3번\n",
      "원하는 메뉴를 입력하세요: 4번\n",
      "4\n",
      "['1번', '2번', '3번', '4번']\n",
      "성균아! 오늘의 메뉴는 4번! 맛있는 식사하렴~\n"
     ]
    }
   ],
   "source": [
    "import random\n",
    "menu=[]\n",
    "for i in range(1,5):\n",
    "    choice = input(\"원하는 메뉴를 입력하세요: \")\n",
    "    menu.append(choice)\n",
    "\n",
    "x= random.randrange(1,5)\n",
    "\n",
    "print(\"성균아! 오늘의 메뉴는 %s! 맛있는 식사하렴~\"%menu[x-1])"
   ]
  },
  {
   "cell_type": "markdown",
   "metadata": {},
   "source": [
    "제어문 실습"
   ]
  },
  {
   "cell_type": "code",
   "execution_count": 3,
   "metadata": {},
   "outputs": [
    {
     "name": "stdout",
     "output_type": "stream",
     "text": [
      "몇 마리의 붉은 불개미가 발견되었나요?12000\n",
      "30일 후 예측되는 붉은 불개미 개체수는 120000 입니다.\n"
     ]
    }
   ],
   "source": [
    "ant=int(input(\"몇 마리의 붉은 불개미가 발견되었나요?\"))\n",
    "\n",
    "if 1000>ant:\n",
    "    growth=ant*3\n",
    "elif 10000>ant:\n",
    "    growth=ant*5\n",
    "else:\n",
    "    growth=ant*10\n",
    "\n",
    "print(\"30일 후 예측되는 붉은 불개미 개체수는 %d 입니다.\"%growth)"
   ]
  },
  {
   "cell_type": "markdown",
   "metadata": {},
   "source": [
    "제어문 과제"
   ]
  },
  {
   "cell_type": "code",
   "execution_count": 5,
   "metadata": {},
   "outputs": [
    {
     "name": "stdout",
     "output_type": "stream",
     "text": [
      "몇 마리의 붉은 불개미가 발견되었나요? 10001\n",
      "몇 마리의 개미핥기가 존재하나요? 10\n",
      "10 마리의 개미핥기의 도움을 받았으나,30일 후 예측되는 붉은 불개미 개체수는 10 입니다.\n",
      "1마리의 개미핥기가 더 필요하였습니다!\n"
     ]
    }
   ],
   "source": [
    "ant=int(input(\"몇 마리의 붉은 불개미가 발견되었나요? \"))\n",
    "anteater=int(input(\"몇 마리의 개미핥기가 존재하나요? \"))\n",
    "\n",
    "if 1000>ant:\n",
    "    growth=ant*3\n",
    "elif 10000>ant:\n",
    "    growth=ant*5\n",
    "else:\n",
    "    growth=ant*10\n",
    "growth-=anteater*10000\n",
    "\n",
    "print(\"%d 마리의 개미핥기의 도움을 받았으나,30일 후 예측되는 붉은 불개미 개체수는 %d 입니다.\"%(anteater,growth))\n",
    "more=growth//10000\n",
    "if growth%10000>1:\n",
    "    more+=1\n",
    "\n",
    "print(\"%d마리의 개미핥기가 더 필요하였습니다!\"% more)"
   ]
  }
 ],
 "metadata": {
  "kernelspec": {
   "display_name": "Python 3",
   "language": "python",
   "name": "python3"
  },
  "language_info": {
   "codemirror_mode": {
    "name": "ipython",
    "version": 3
   },
   "file_extension": ".py",
   "mimetype": "text/x-python",
   "name": "python",
   "nbconvert_exporter": "python",
   "pygments_lexer": "ipython3",
   "version": "3.7.0"
  }
 },
 "nbformat": 4,
 "nbformat_minor": 2
}
