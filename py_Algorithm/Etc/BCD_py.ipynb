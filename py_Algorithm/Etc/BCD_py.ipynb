{
 "cells": [
  {
   "cell_type": "markdown",
   "metadata": {},
   "source": [
    "Recursive_BCD"
   ]
  },
  {
   "cell_type": "code",
   "execution_count": 167,
   "metadata": {},
   "outputs": [],
   "source": [
    "def BCD_Recursive(Num,i,length):\n",
    "    if i==length:\n",
    "        return BCD(Num%10)\n",
    "    else:\n",
    "        return BCD_Recursive(Num,i+1,length)"
   ]
  },
  {
   "cell_type": "code",
   "execution_count": 168,
   "metadata": {},
   "outputs": [],
   "source": [
    "def BCD(Num):\n",
    "    temp=Num%10\n",
    "    Num1=temp//8\n",
    "    temp%=8\n",
    "    Num2=temp//4\n",
    "    temp%=4\n",
    "    Num3=temp//2\n",
    "    temp%=2\n",
    "    Num4=temp\n",
    "    ans=Num1*1000+Num2*100+Num3*10+Num4\n",
    "    \n",
    "    return str(ans)\n"
   ]
  },
  {
   "cell_type": "code",
   "execution_count": 175,
   "metadata": {},
   "outputs": [
    {
     "name": "stdout",
     "output_type": "stream",
     "text": [
      "Binary로 바꿀 십진법 숫자를 입력해주세요7043\n",
      "4\n",
      "101000\n",
      "0\n",
      "0\n",
      "1000110\n",
      "1010111100\n",
      "1101101011000\n",
      "1101101011000\n",
      "1101101011000\n",
      "1101110000000\n",
      "1101110000011\n",
      "1101110000011\n"
     ]
    }
   ],
   "source": [
    "Num=int(input(\"Binary로 바꿀 십진법 숫자를 입력해주세요\"))\n",
    "count=0\n",
    "Ans=Num\n",
    "while Num>0:\n",
    "    Num=Num//10\n",
    "    count+=1\n",
    "print(count)\n",
    "\n",
    "print(BCD_Recursive(Ans,0,count))"
   ]
  },
  {
   "cell_type": "code",
   "execution_count": null,
   "metadata": {},
   "outputs": [],
   "source": []
  }
 ],
 "metadata": {
  "kernelspec": {
   "display_name": "Python 3",
   "language": "python",
   "name": "python3"
  },
  "language_info": {
   "codemirror_mode": {
    "name": "ipython",
    "version": 3
   },
   "file_extension": ".py",
   "mimetype": "text/x-python",
   "name": "python",
   "nbconvert_exporter": "python",
   "pygments_lexer": "ipython3",
   "version": "3.7.0"
  }
 },
 "nbformat": 4,
 "nbformat_minor": 2
}
