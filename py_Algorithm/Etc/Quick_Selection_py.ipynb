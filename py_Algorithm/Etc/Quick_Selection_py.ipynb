{
 "cells": [
  {
   "cell_type": "code",
   "execution_count": 28,
   "metadata": {},
   "outputs": [],
   "source": [
    "def quick_selection(arr, kth):\n",
    "    pivot = arr[(len(arr)+1)//2 - 1]\n",
    "    left, mid, right = [], [], []\n",
    "    for i in range(len(arr)):\n",
    "        if arr[i] < pivot:\n",
    "            left.append(arr[i])\n",
    "        elif arr[i] > pivot:\n",
    "            right.append(arr[i])\n",
    "        else:\n",
    "            mid.append(arr[i])\n",
    "    \n",
    "    if kth < len(left):\n",
    "        return quick_selection(left, kth)\n",
    "    elif kth < len(left) + len(mid):\n",
    "        return mid[0]\n",
    "    else:\n",
    "        return quick_selection(right, kth - len(left) - len(mid))\n",
    "        "
   ]
  },
  {
   "cell_type": "code",
   "execution_count": 32,
   "metadata": {},
   "outputs": [
    {
     "name": "stdout",
     "output_type": "stream",
     "text": [
      "How many number do you want to input?5\n",
      "Typing [0]arr value\n",
      "9\n",
      "Typing [1]arr value\n",
      "10\n",
      "Typing [2]arr value\n",
      "7\n",
      "Typing [3]arr value\n",
      "3000\n",
      "Typing [4]arr value\n",
      "-3\n",
      "which INDEX do you want to find?3\n",
      "10\n"
     ]
    }
   ],
   "source": [
    "arr=[]\n",
    "\n",
    "Num=int(input(\"How many number do you want to input?\"))\n",
    "for i in range(Num):\n",
    "    arr.append(int(input(\"Typing [%d]arr value\\n\"%i)))\n",
    "index=int(input(\"which INDEX do you want to find?\"))\n",
    "\n",
    "\n",
    "print(quick_selection(arr, index))"
   ]
  }
 ],
 "metadata": {
  "kernelspec": {
   "display_name": "Python 3",
   "language": "python",
   "name": "python3"
  },
  "language_info": {
   "codemirror_mode": {
    "name": "ipython",
    "version": 3
   },
   "file_extension": ".py",
   "mimetype": "text/x-python",
   "name": "python",
   "nbconvert_exporter": "python",
   "pygments_lexer": "ipython3",
   "version": "3.7.0"
  }
 },
 "nbformat": 4,
 "nbformat_minor": 2
}
