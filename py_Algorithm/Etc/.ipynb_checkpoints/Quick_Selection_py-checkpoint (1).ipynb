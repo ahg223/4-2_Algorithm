{
 "cells": [
  {
   "cell_type": "code",
   "execution_count": 1,
   "metadata": {},
   "outputs": [
    {
     "name": "stdout",
     "output_type": "stream",
     "text": [
      "[11837, 23806, 19723, 13306, 17284, 21495, 4278, 25475, 24600, 23663, 16794, 26885, 9663, 9520, 22678, 14797, 13218, 21513, 992, 7367, 28552, 29339, 3262, 15962, 4716, 6246, 6528, 5125, 9899, 7252, 29907, 24046, 3979, 21425, 27470, 5407, 3002, 252, 19632, 17098, 20756, 29721, 2412, 812, 3622, 8009, 21906, 27000, 25507, 29356, 4873, 3845, 20480, 27885, 2324, 22152, 6017, 18414, 10655, 3187, 9402, 8350, 14199, 12, 9669, 9835, 19728, 16095, 25916, 27078, 15243, 26638, 5457, 15750, 13224, 1100, 12774, 18495, 3145, 16188, 14386, 14317, 19337, 17481, 12406, 20349, 15046, 5408, 28993, 24862, 19469, 15891, 10848, 7071, 18956, 19362, 5036, 14096, 457, 22424, 17439, 3549, 18871, 11947, 29985, 17599, 15242, 16693, 15345, 18446, 18825, 26641, 10591, 10007, 7368, 29686, 13267, 3138, 15185, 21451, 9670, 3801, 1804, 12354, 14788, 348, 29037, 14103, 29297, 21277, 20106, 16005, 17155, 14221, 16400, 7621, 29317, 5920, 17926, 20172, 3618, 25367, 4751, 16253, 20167, 8771, 24577, 10806, 14916, 9047, 12875, 24424, 19595, 19486, 16807, 10610, 23059, 17122, 20534, 4821, 2559, 22951, 19919, 7010, 27908, 12630, 22241, 18206, 499, 486, 6640, 21533, 14591, 7903, 16943, 17518, 20642, 12988, 21063, 12803, 21675, 11547, 13171, 20913, 5172, 10442, 5054, 3893, 29708, 19729, 18518, 18727, 29324, 10555, 24144, 647, 3324, 26454, 23503, 19625, 25251, 1802, 28574, 22941, 12328, 365, 4707, 3469, 17284, 16780, 5197, 9498, 19428, 17801, 23002, 28987, 18629, 19292, 14888, 12755, 15854, 14213, 21056, 28512, 28301, 26356, 26557, 752, 6321, 27754, 9228, 13427, 22770, 102, 940, 2448, 13301, 28009, 9196, 29939, 6908, 4901, 21353, 24777, 23839, 13208, 18448, 16211, 21266, 4395, 24317, 23047, 3544, 13136, 1253, 8443, 1868, 937, 24539, 27299, 29543, 17888, 27895, 9640, 12639, 20573, 4025, 14773, 662, 28679, 20843, 16611, 9934, 4461, 27331, 3172, 20702, 9156, 9672, 27619, 8986, 29639, 28830, 29270, 2158, 12236, 25744, 22079, 11004, 25518, 12688, 12946, 26547, 4543, 26288, 15151, 21366, 25678, 997, 4396, 25528, 23179, 25191, 4648, 29315, 18701, 2546, 15689, 11692, 3840, 18731, 28665, 5518, 4515, 18529, 5615, 14029, 13387, 18011, 26566, 19266, 14559, 18773, 26053, 8240, 9257, 1298, 1829, 15695, 4497, 13981, 13536, 412, 26263, 9206, 18841, 16887, 22937, 26311, 7051, 17236, 15246, 24384, 20086, 12743, 22438, 7194, 24456, 23142, 28582, 268, 11209, 5960, 26868, 3334, 27498, 27927, 10680, 22219, 5013, 21828, 23285, 7687, 12961, 18635, 10682, 5934, 11213, 18519, 27899, 6352, 8954, 11913, 29200, 232, 6918, 27971, 25992, 22176, 13683, 24959, 14770, 15946, 1878, 15542, 17478, 12495, 1778, 4603, 28995, 11995, 28, 11701, 12051, 4634, 15325, 9326, 14529, 18298, 16273, 19707, 23477, 12997, 16776, 13886, 10353, 9608, 11218, 13243, 18772, 17453, 6852, 21926, 20764, 20547, 765, 25237, 18229, 11985, 24758, 7433, 22822, 16800, 17173, 467, 20665, 12915, 11551, 8275, 28214, 4698, 25990, 2866, 28185, 1095, 14937, 26046, 9192, 27447, 22363, 4993, 12004, 3860, 26351, 6598, 2827, 16566, 24615, 28067, 25620, 3085, 16385, 3322, 26384, 16310, 2791, 11141, 12134, 14188, 6564, 4473, 29152, 23060, 17337, 22691, 2143, 12786, 8306, 6355, 10795, 25220, 7273, 19728, 16772, 5763, 4964, 27700, 25351, 16340, 28026, 20850, 4276, 5494, 19358, 12816, 19667, 25083, 11097, 10909, 9685, 6968, 15057, 3239, 23367, 27290, 25769, 2198, 14798, 7298, 18196]\n"
     ]
    }
   ],
   "source": [
    "\n",
    "file = open(\"data.txt\",\"r\")\n",
    "\n",
    "Temp=file.read().splitlines()\n",
    "A=[]\n",
    "\n",
    "for i in range(0,500):\n",
    "   A.append(int(Temp[i]))\n",
    "\n",
    "print(A)"
   ]
  },
  {
   "cell_type": "code",
   "execution_count": 56,
   "metadata": {},
   "outputs": [
    {
     "name": "stdout",
     "output_type": "stream",
     "text": [
      "Before:  [34, 88, 93, 37, 0, 57, 18, 45, 80, 58, 60, 11, 12, 35, 67, 19, 92, 82, 41, 72, 85, 20, 4, 94, 0, 5, 58, 95, 16, 92, 19, 43, 27, 23, 76, 94, 92, 48, 99, 73, 63, 63, 9, 60, 21, 20, 81, 92, 89, 76, 94, 51, 53, 96, 11, 67, 99, 62, 92, 89, 79, 47, 43, 3, 90, 13, 44, 10, 100, 46, 28, 72, 1, 54, 13, 66, 98, 88, 58, 19, 27, 81, 38, 35, 46, 7, 0, 98, 84, 19, 94, 6, 7, 78, 4, 13, 24, 92, 14, 58]\n",
      "After:   [0, 0, 0, 1, 3, 4, 4, 5, 6, 7, 7, 9, 10, 11, 11, 12, 13, 13, 13, 14, 16, 18, 19, 19, 19, 19, 20, 20, 21, 23, 24, 27, 27, 28, 34, 35, 35, 37, 38, 41, 43, 43, 44, 45, 46, 46, 47, 48, 51, 53, 54, 57, 58, 58, 58, 58, 60, 60, 62, 63, 63, 66, 67, 67, 72, 72, 73, 76, 76, 78, 79, 80, 81, 81, 82, 84, 85, 88, 88, 89, 89, 90, 92, 92, 92, 92, 92, 92, 93, 94, 94, 94, 94, 95, 96, 98, 98, 99, 99, 100]\n",
      "0.0004749298096 seconds\n",
      "-0.0003590583801269531\n",
      "-0.0015158653259277344\n",
      "-0.003531932830810547\n",
      "-0.006124019622802734\n",
      "-0.009824752807617188\n",
      "-0.014442920684814453\n",
      "-0.017679929733276367\n",
      "-0.02111983299255371\n",
      "-0.02703690528869629\n",
      "-0.03218579292297363\n",
      "-0.03837013244628906\n",
      "-0.04673123359680176\n",
      "-0.054335594177246094\n",
      "-0.06025576591491699\n",
      "-0.06714892387390137\n",
      "-0.07607674598693848\n",
      "-0.08929896354675293\n",
      "-0.09857678413391113\n",
      "-0.10657787322998047\n",
      "-0.11467838287353516\n",
      "-0.13216900825500488\n",
      "-0.13799285888671875\n",
      "-0.15000367164611816\n",
      "-0.15871787071228027\n",
      "-0.17305207252502441\n",
      "-0.18718171119689941\n",
      "-0.19681501388549805\n",
      "-0.20465826988220215\n",
      "-0.223114013671875\n",
      "-0.2298450469970703\n"
     ]
    },
    {
     "data": {
      "text/plain": [
       "[<matplotlib.lines.Line2D at 0x104c29400>]"
      ]
     },
     "execution_count": 56,
     "metadata": {},
     "output_type": "execute_result"
    },
    {
     "data": {
      "image/png": "[encoded data removed]",
      "text/plain": [
       "<Figure size 432x288 with 1 Axes>"
      ]
     },
     "metadata": {
      "needs_background": "light"
     },
     "output_type": "display_data"
    }
   ],
   "source": [
    "def quick_sort_iter(list_, left, right):\n",
    "    temp_ = []\n",
    "    temp_.append((left,right))\n",
    "    \n",
    "    while temp_:      \n",
    "        pos = temp_.pop()\n",
    "        left, right = pos[0], pos[1]\n",
    "        piv = partition(list_,left,right)\n",
    "        if piv-1 > left:\n",
    "            temp_.append((left,piv-1))\n",
    "        if piv+1 < right:\n",
    "            temp_.append((piv+1,right))\n",
    "    return list_\n",
    "\n",
    "def quick_sort_recur(list_, left, right):\n",
    "    if right <= left:\n",
    "        return list_\n",
    "    else:\n",
    "        piv = partition(list_, left, right)\n",
    "        quick_sort_recur(list_, left, piv-1)\n",
    "        quick_sort_recur(list_, piv+1, right)\n",
    "  \n",
    "def partition(list_, left, right):\n",
    "    piv = list_[left]\n",
    "    i = left + 1\n",
    "    j = right\n",
    "\n",
    "    while 1:\n",
    "        while i <= j  and list_[i] <= piv:\n",
    "            i +=1\n",
    "        while j >= i and list_[j] >= piv:\n",
    "            j -=1\n",
    "        if j <= i:\n",
    "            break\n",
    "        list_[i], list_[j] = list_[j], list_[i]\n",
    "    list_[left], list_[j] = list_[j], list_[left]\n",
    "    return j\n",
    "\n",
    "\n",
    "from random import *\n",
    "from time import *\n",
    " \n",
    "seed()\n",
    "x = []\n",
    "for i in range(0, 100):\n",
    "    x.append(randint(0, 100))\n",
    "    \n",
    "start=time()\n",
    "print(\"Before: \", x)\n",
    "x=quick_sort_iterative(x,0,len(x)-1)\n",
    "print(\"After:  \", x)\n",
    "print(\"%.13f seconds\" %(time()-start))\n",
    "\n",
    "iterY=[]\n",
    "recurY=[]\n",
    "for i in range(100, 4000, 100):\n",
    "    x=[]\n",
    "    for j in range(i):\n",
    "        x.append(randint(0, 4000))\n",
    "     \n",
    "    start=time()\n",
    "    x=quick_sort_iter(x,0,len(x)-1)\n",
    "    iterY.append(time()-start)\n",
    "    start=time()\n",
    "    x=quick_sort_recur(x,0,len(x)-1)\n",
    "    recurY.append(time()-start)\n",
    "        \n",
    "import matplotlib.pyplot as plt\n",
    "for i in range(30):\n",
    "    print(iterY[i]-recurY[i])\n",
    "plt.plot(range(100, 4000, 100),iterY)\n",
    "plt.plot(range(100, 4000, 100),recurY)\n",
    "\n"
   ]
  },
  {
   "cell_type": "code",
   "execution_count": 28,
   "metadata": {},
   "outputs": [
    {
     "name": "stdout",
     "output_type": "stream",
     "text": [
      "[12, 28, 102, 232, 252, 268, 348, 365, 412, 457, 467, 486, 499, 647, 662, 752, 765, 812, 937, 940, 992, 997, 1095, 1100, 1253, 1298, 1778, 1802, 1804, 1829, 1868, 1878, 2143, 2158, 2198, 2324, 2412, 2448, 2546, 2559, 2791, 2827, 2866, 3002, 3085, 3138, 3145, 3172, 3187, 3239, 3262, 3322, 3324, 3334, 3469, 3544, 3549, 3618, 3622, 3801, 3840, 3845, 3860, 3893, 3979, 4025, 4276, 4278, 4395, 4396, 4461, 4473, 4497, 4515, 4543, 4603, 4634, 4648, 4698, 4707, 4716, 4751, 4821, 4873, 4901, 4964, 4993, 5013, 5036, 5054, 5125, 5172, 5197, 5407, 5408, 5457, 5494, 5518, 5615, 5763, 5920, 5934, 5960, 6017, 6246, 6321, 6352, 6355, 6528, 6564, 6598, 6640, 6852, 6908, 6918, 6968, 7010, 7051, 7071, 7194, 7252, 7273, 7298, 7367, 7368, 7433, 7621, 7687, 7903, 8009, 8240, 8275, 8306, 8350, 8443, 8771, 8954, 8986, 9047, 9156, 9192, 9196, 9206, 9228, 9257, 9326, 9402, 9498, 9520, 9608, 9640, 9663, 9669, 9670, 9672, 9685, 9835, 9899, 9934, 10007, 10353, 10442, 10555, 10591, 10610, 10655, 10680, 10682, 10795, 10806, 10848, 10909, 11004, 11097, 11141, 11209, 11213, 11218, 11547, 11551, 11692, 11701, 11837, 11913, 11947, 11985, 11995, 12004, 12051, 12134, 12236, 12328, 12354, 12406, 12495, 12630, 12639, 12688, 12743, 12755, 12774, 12786, 12803, 12816, 12875, 12915, 12946, 12961, 12988, 12997, 13136, 13171, 13208, 13218, 13224, 13243, 13267, 13301, 13306, 13387, 13427, 13536, 13683, 13886, 13981, 14029, 14096, 14103, 14188, 14199, 14213, 14221, 14317, 14386, 14529, 14559, 14591, 14770, 14773, 14788, 14797, 14798, 14888, 14916, 14937, 15046, 15057, 15151, 15185, 15242, 15243, 15246, 15325, 15345, 15542, 15689, 15695, 15750, 15854, 15891, 15946, 15962, 16005, 16095, 16188, 16211, 16253, 16273, 16310, 16340, 16385, 16400, 16566, 16611, 16693, 16772, 16776, 16780, 16794, 16800, 16807, 16887, 16943, 17098, 17122, 17155, 17173, 17236, 17284, 17284, 17337, 17439, 17453, 17478, 17481, 17518, 17599, 17801, 17888, 17926, 18011, 18196, 18206, 18229, 18298, 18414, 18446, 18448, 18495, 18518, 18519, 18529, 18629, 18635, 18701, 18727, 18731, 18772, 18773, 18825, 18841, 18871, 18956, 19266, 19292, 19337, 19358, 19362, 19428, 19469, 19486, 19595, 19625, 19632, 19667, 19707, 19723, 19728, 19728, 19729, 19919, 20086, 20106, 20167, 20172, 20349, 20480, 20534, 20547, 20573, 20642, 20665, 20702, 20756, 20764, 20843, 20850, 20913, 21056, 21063, 21266, 21277, 21353, 21366, 21425, 21451, 21495, 21513, 21533, 21675, 21828, 21906, 21926, 22079, 22152, 22176, 22219, 22241, 22363, 22424, 22438, 22678, 22691, 22770, 22822, 22937, 22941, 22951, 23002, 23047, 23059, 23060, 23142, 23179, 23285, 23367, 23477, 23503, 23663, 23806, 23839, 24046, 24144, 24317, 24384, 24424, 24456, 24539, 24577, 24600, 24615, 24758, 24777, 24862, 24959, 25083, 25191, 25220, 25237, 25251, 25351, 25367, 25475, 25507, 25518, 25528, 25620, 25678, 25744, 25769, 25916, 25990, 25992, 26046, 26053, 26263, 26288, 26311, 26351, 26356, 26384, 26454, 26547, 26557, 26566, 26638, 26641, 26868, 26885, 27000, 27078, 27290, 27299, 27331, 27447, 27470, 27498, 27619, 27700, 27754, 27885, 27895, 27899, 27908, 27927, 27971, 28009, 28026, 28067, 28185, 28214, 28301, 28512, 28552, 28574, 28582, 28665, 28679, 28830, 28987, 28993, 28995, 29037, 29152, 29200, 29270, 29297, 29315, 29317, 29324, 29339, 29356, 29543, 29639, 29686, 29708, 29721, 29907, 29939, 29985]\n"
     ]
    }
   ],
   "source": [
    "def quick_sorted(arr):\n",
    "    if len(arr) > 1:                    #그래도 일단 원소가 2개이상은 되어야 정렬을 하겠지?\n",
    "        pivot = arr[len(arr) - 1]       #피봇을 잡음.\n",
    "        left, mid, right = [], [], []   #피봇보다 작은 녀석은 left, 큰건 right, 피봇과 같은 값이면 mid에\n",
    "        for i in range(len(arr) - 1):\n",
    "            if arr[i] < pivot:\n",
    "                left.append(arr[i])\n",
    "            elif arr[i] > pivot:\n",
    "                right.append(arr[i])\n",
    "            else:\n",
    "                mid.append(arr[i])\n",
    "        mid.append(pivot)               #피봇은 mid에 넣어줌.\n",
    "        return quick_sorted(left) + mid + quick_sorted(right)   #left, right 녀석들은 재귀로 다시 정렬!\n",
    "    else:\n",
    "        return arr\n",
    "\n",
    "arr = []\n",
    "with open('data.txt') as f:     #데이터를 READ하는 모듈\n",
    "    lines = f.read().split()    #data.txt  파일에 들어있는 데이터들을 line별로 읽어와서\n",
    "    for line in lines:          #All리스트에 append 시켜줍니다.\n",
    "        arr.append(int(line))\n",
    "\n",
    "print(quick_sorted(arr))"
   ]
  },
  {
   "cell_type": "code",
   "execution_count": null,
   "metadata": {},
   "outputs": [],
   "source": []
  }
 ],
 "metadata": {
  "kernelspec": {
   "display_name": "Python 3",
   "language": "python",
   "name": "python3"
  },
  "language_info": {
   "codemirror_mode": {
    "name": "ipython",
    "version": 3
   },
   "file_extension": ".py",
   "mimetype": "text/x-python",
   "name": "python",
   "nbconvert_exporter": "python",
   "pygments_lexer": "ipython3",
   "version": "3.7.0"
  }
 },
 "nbformat": 4,
 "nbformat_minor": 2
}
