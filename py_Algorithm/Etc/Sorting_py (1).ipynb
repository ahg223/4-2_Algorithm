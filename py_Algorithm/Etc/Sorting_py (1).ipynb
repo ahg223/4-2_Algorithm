{
 "cells": [
  {
   "cell_type": "markdown",
   "metadata": {},
   "source": [
    "Insertion Sort"
   ]
  },
  {
   "cell_type": "code",
   "execution_count": 15,
   "metadata": {},
   "outputs": [],
   "source": [
    "def insertion_sort(collection):\n",
    "\n",
    "    for index in range(1, len(collection)):\n",
    "        while 0 < index and collection[index] < collection[index - 1]: \n",
    "            collection[index], collection[\n",
    "                index - 1] = collection[index - 1], collection[index]\n",
    "            index -= 1\n",
    "\n",
    "    return collection"
   ]
  },
  {
   "cell_type": "markdown",
   "metadata": {},
   "source": [
    "Selection Sort"
   ]
  },
  {
   "cell_type": "code",
   "execution_count": 16,
   "metadata": {},
   "outputs": [],
   "source": [
    "def selection_sort(arr):\n",
    "    for i in range(len(arr)-1):\n",
    "        min_index = i\n",
    "        # 최소값 찾는 처리\n",
    "        for k in range(i+1, len(arr)):\n",
    "            if arr[k] < arr[min_index]:\n",
    "                min_index = k\n",
    "        # 최소값의 위치를 바꿔주는 처리\n",
    "        tmp = arr[i]\n",
    "        arr[i] = arr[min_index]\n",
    "        arr[min_index] = tmp\n",
    "    return arr"
   ]
  },
  {
   "cell_type": "markdown",
   "metadata": {},
   "source": [
    "Bubble Sort"
   ]
  },
  {
   "cell_type": "code",
   "execution_count": 17,
   "metadata": {},
   "outputs": [],
   "source": [
    "def bubble_sort(li):\n",
    "    length = len(li) - 1\n",
    "    for i in range(length):\n",
    "        for j in range(length-i):\n",
    "            if li[j] > li[j+1]:\n",
    "                li[j], li[j+1] = li[j+1], li[j]\n",
    "    return li"
   ]
  },
  {
   "cell_type": "markdown",
   "metadata": {},
   "source": [
    "Merge Sort"
   ]
  },
  {
   "cell_type": "code",
   "execution_count": 21,
   "metadata": {},
   "outputs": [],
   "source": [
    "def merge_sort(lst):\n",
    "    if len(lst) <= 1:\n",
    "        return lst\n",
    "    mid = len(lst) // 2\n",
    "    leftList = lst[:mid]\n",
    "    rightList = lst[mid:]\n",
    "    leftList = merge_sort(leftList)\n",
    "    rightList = merge_sort(rightList)\n",
    "    return merge(leftList, rightList)\n",
    "\n",
    "def merge(left, right):\n",
    "    result = []\n",
    "    while len(left) > 0 or len(right) > 0:\n",
    "        if len(left) > 0 and len(right) > 0:\n",
    "            if left[0] <= right[0]:\n",
    "                result.append(left[0])\n",
    "                left = left[1:]\n",
    "            else:\n",
    "                result.append(right[0])\n",
    "                right = right[1:]\n",
    "        elif len(left) > 0:\n",
    "            result.append(left[0])\n",
    "            left = left[1:]\n",
    "        elif len(right) > 0:\n",
    "            result.append(right[0])\n",
    "            right = right[1:]\n",
    "    return result"
   ]
  },
  {
   "cell_type": "markdown",
   "metadata": {},
   "source": [
    "Quick Sort"
   ]
  },
  {
   "cell_type": "code",
   "execution_count": 19,
   "metadata": {},
   "outputs": [],
   "source": [
    "def quick_sort(arr, desc = False):\n",
    "    if len(arr) <= 1: return arr  # only 2 or more\n",
    "    try:                          # numeric array\n",
    "        pivot = (max(arr) + min(arr)) / 2\n",
    "    except TypeError:             # non-numeric array\n",
    "        i = len(arr) // 2\n",
    "        pivot = arr[i]            # Below: L/E/G array\n",
    "    less = []; equal = []; greater = []\n",
    "    for x in arr:\n",
    "        if x < pivot:     less.append(x)     # Less than pivot\n",
    "        elif x == pivot:  equal.append(x)    # Equal to pivot\n",
    "        elif x > pivot:   greater.append(x)  # Greater than pivot\n",
    "    if desc:  return quicksort(greater, True) + equal + quicksort(less, True)\n",
    "    else:     return quicksort(less, False) + equal + quicksort(greater, False)"
   ]
  },
  {
   "cell_type": "markdown",
   "metadata": {},
   "source": [
    "Main Function"
   ]
  },
  {
   "cell_type": "code",
   "execution_count": 26,
   "metadata": {},
   "outputs": [
    {
     "data": {
      "text/plain": [
       "[<matplotlib.lines.Line2D at 0x10ad26ef0>,\n",
       " <matplotlib.lines.Line2D at 0x10ad2f0b8>,\n",
       " <matplotlib.lines.Line2D at 0x10ad2f630>,\n",
       " <matplotlib.lines.Line2D at 0x10ad2fa90>,\n",
       " <matplotlib.lines.Line2D at 0x10ad2fef0>]"
      ]
     },
     "execution_count": 26,
     "metadata": {},
     "output_type": "execute_result"
    },
    {
     "data": {
      "image/png": "[encoded data removed]",
      "text/plain": [
       "<Figure size 432x288 with 1 Axes>"
      ]
     },
     "metadata": {
      "needs_background": "light"
     },
     "output_type": "display_data"
    }
   ],
   "source": [
    "import random\n",
    "\n",
    "def test_case(length: int = 10000):\n",
    "    lst = [random.randint(-10**9, 10**9) for i in range(length)]\n",
    "    return lst\n",
    "\n",
    "import time\n",
    "TimeInsertion=[]\n",
    "TimeSelection=[]\n",
    "TimeBubble=[]\n",
    "TimeMerge=[]\n",
    "TimeQuick=[]\n",
    "\n",
    "for i in range(2,1000,1):\n",
    "    lst=test_case(i)\n",
    "    start_time=time.time()\n",
    "    insertion_sort(lst)\n",
    "    TimeInsertion.append(time.time()-start_time)\n",
    "    \n",
    "for i in range(2,1000,1):\n",
    "    lst=test_case(i)\n",
    "    start_time=time.time()\n",
    "    selection_sort(lst)\n",
    "    TimeSelection.append(time.time()-start_time)\n",
    "    \n",
    "for i in range(2,1000,1):\n",
    "    lst=test_case(i)\n",
    "    start_time=time.time()\n",
    "    bubble_sort(lst)\n",
    "    TimeBubble.append(time.time()-start_time)\n",
    "\n",
    "for i in range(2,1000,1):\n",
    "    lst=test_case(i)\n",
    "    start_time=time.time()\n",
    "    merge_sort(lst)\n",
    "    TimeMerge.append(time.time()-start_time)\n",
    "\n",
    "for i in range(2,1000,1):\n",
    "    lst=test_case(i)\n",
    "    start_time=time.time()\n",
    "    quick_sort(lst)\n",
    "    TimeQuick.append(time.time()-start_time)\n",
    "\n",
    "\n",
    "import matplotlib.pyplot as plt\n",
    "'''\n",
    "plt.plot(TimeInsertion,'r')\n",
    "plt.show()\n",
    "plt.plot(TimeSelection,'g')\n",
    "plt.show()\n",
    "plt.plot(TimeBubble,'b')\n",
    "plt.show()\n",
    "plt.plot(TimeMerge,'c')\n",
    "plt.show()\n",
    "plt.plot(TimeQuick,'m')\n",
    "plt.show()\n",
    "'''\n",
    "plt.plot(TimeInsertion,'r',TimeSelection,'g',TimeBubble,'b',TimeMerge,'c',TimeQuick,'m')"
   ]
  }
 ],
 "metadata": {
  "kernelspec": {
   "display_name": "Python 3",
   "language": "python",
   "name": "python3"
  },
  "language_info": {
   "codemirror_mode": {
    "name": "ipython",
    "version": 3
   },
   "file_extension": ".py",
   "mimetype": "text/x-python",
   "name": "python",
   "nbconvert_exporter": "python",
   "pygments_lexer": "ipython3",
   "version": "3.7.0"
  }
 },
 "nbformat": 4,
 "nbformat_minor": 2
}
