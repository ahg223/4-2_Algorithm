{
 "cells": [
  {
   "cell_type": "code",
   "execution_count": 40,
   "metadata": {},
   "outputs": [],
   "source": [
    "\n",
    "def permutation(list_arr,num,flag):\n",
    "    if flag==0:\n",
    "        temp=\"\"\n",
    "        for i in num:\n",
    "            temp+=i\n",
    "            list_arr.append(int(temp))\n",
    "        return;\n",
    "    for i in range(flag-1,-1,-1):\n",
    "        num[i],num[flag-1]=num[flag-1],num[i]\n",
    "        permutation(list_arr,num,flag-1)\n",
    "        num[i],num[flag-1]=num[flag-1],num[i]\n",
    "        \n",
    "def Isprime(list_arr,answer):\n",
    "    for List in list_arr:\n",
    "        isprime=True\n",
    "        if List==1 or List==0: isprime=False\n",
    "        num=2\n",
    "        \n",
    "        while (num*num)<=List:\n",
    "            if List%num==0:\n",
    "                isprime=False\n",
    "                break\n",
    "            num+=1\n",
    "        if isprime==True:\n",
    "            answer+=1\n",
    "    return answer\n",
    "\n",
    "def solution(numbers):\n",
    "    answer = 0\n",
    "    list_arr=[]\n",
    "    '''\n",
    "    for i in range(0,len(numbers)):\n",
    "        for j in range(len(numbers)-1,i-1,-1):\n",
    "            List=numbers[i:j+1]\n",
    "            '''\n",
    "    permutation(list_arr,list(numbers),len(numbers))\n",
    "            \n",
    "    list_arr=list(set(list_arr))\n",
    "    \n",
    "    return Isprime(list_arr,answer)"
   ]
  },
  {
   "cell_type": "code",
   "execution_count": 30,
   "metadata": {},
   "outputs": [],
   "source": [
    "'''\n",
    "def permutation(list_arr,num,flag,depth):\n",
    "    if len(num)==depth:\n",
    "        temp=\"\"\n",
    "        for i in range(len(num)-flag):\n",
    "            temp+=num[i]\n",
    "        print(temp)\n",
    "        list_arr.append(int(temp))\n",
    "        return;\n",
    "    \n",
    "    for i in range(depth,len(num)):\n",
    "        num[i],num[depth]=num[depth],num[i]\n",
    "        permutation(list_arr,num,flag,depth+1)\n",
    "        num[i],num[depth]=num[depth],num[i]\n",
    "        \n",
    "def Isprime(list_arr,answer):\n",
    "    for List in list_arr:\n",
    "        isprime=True\n",
    "        if List==1 or List==0: isprime=False\n",
    "        num=2\n",
    "        \n",
    "        while (num*num)<=List:\n",
    "            if List%num==0:\n",
    "                isprime=False\n",
    "                break\n",
    "            num+=1\n",
    "        if isprime==True:\n",
    "            answer+=1\n",
    "    return answer\n",
    "\n",
    "def solution(numbers):\n",
    "    answer = 0\n",
    "    list_arr=[]\n",
    "    \n",
    "    for i in range(len(numbers)): permutation(list_arr,list(numbers),i,i)\n",
    "    print(list_arr)\n",
    "    list_arr=list(set(list_arr))\n",
    "    \n",
    "    return Isprime(list_arr,answer)\n",
    "'''"
   ]
  },
  {
   "cell_type": "code",
   "execution_count": 43,
   "metadata": {},
   "outputs": [
    {
     "data": {
      "text/plain": [
       "3"
      ]
     },
     "execution_count": 43,
     "metadata": {},
     "output_type": "execute_result"
    }
   ],
   "source": [
    "solution(\"17\")"
   ]
  }
 ],
 "metadata": {
  "kernelspec": {
   "display_name": "Python 3",
   "language": "python",
   "name": "python3"
  },
  "language_info": {
   "codemirror_mode": {
    "name": "ipython",
    "version": 3
   },
   "file_extension": ".py",
   "mimetype": "text/x-python",
   "name": "python",
   "nbconvert_exporter": "python",
   "pygments_lexer": "ipython3",
   "version": "3.7.0"
  }
 },
 "nbformat": 4,
 "nbformat_minor": 2
}
