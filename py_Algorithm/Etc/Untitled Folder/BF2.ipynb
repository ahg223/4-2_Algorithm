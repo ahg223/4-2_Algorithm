{
 "cells": [
  {
   "cell_type": "code",
   "execution_count": 5,
   "metadata": {},
   "outputs": [],
   "source": [
    "#Answer=[[[1 for col in range(10)] for row in range(10)] for x in range(10)]"
   ]
  },
  {
   "cell_type": "code",
   "execution_count": 8,
   "metadata": {},
   "outputs": [],
   "source": [
    "'''\n",
    "def solution(baseball):\n",
    "    answer = 0\n",
    "    \n",
    "    for trying in baseball:\n",
    "        \n",
    "        strike=trying[1]\n",
    "        if strike==1:\n",
    "            for i in range(1,10):\n",
    "                for j in range(1,10):\n",
    "                    for n in range(1,10):\n",
    "                        if i == trying[0]/100 and j == trying[0]%100/10: Answer[i][j][n]=0\n",
    "                        elif i == trying[0]/100 and n == trying[0]%10: Answer[i][j][n]=0\n",
    "                        elif j == trying[0]%100/10 and n == trying[0]%10: Answer[i][j][n]=0\n",
    "                        if i == trying[0]/100 or j == trying[0]%100/10 or n == trying[0]%10: break\n",
    "                        Answer[i][j][n]=0\n",
    "\n",
    "        if strike==2:\n",
    "            for i in range(1,10):\n",
    "                for j in range(1,10):\n",
    "                    for n in range(1,10):\n",
    "                        if i == trying[0]/100 and j == trying[0]%100/10 and n == trying[0]%10: Answer[i][j][n]=0\n",
    "                        if i == trying[0]/100 and j == trying[0]%100/10: break\n",
    "                        elif i == trying[0]/100 and n == trying[0]%10: break\n",
    "                        elif j == trying[0]%100/10 and n == trying[0]%10: break\n",
    "                        Answer[i][j][n]=0\n",
    "\n",
    "        ball=trying[2]\n",
    "        if ball==1:\n",
    "            for i in range(1,10):\n",
    "                for j in range(1,10):\n",
    "                    for n in range(1,10):\n",
    "                        if (i == trying[0]%100/10 or i == trying[0]%10) and (j == trying[0]/100 or j == trying[0]%10): Answer[i][j][n]=0\n",
    "                        elif (i == trying[0]%100/10 or i == trying[0]%10) and (n == trying[0]/100 or n == trying[0]%100/10): Answer[i][j][n]=0\n",
    "                        elif (n == trying[0]/100 or n == trying[0]%100/10) and (j == trying[0]/100 or j == trying[0]%10): Answer[i][j][n]=0\n",
    "                        \n",
    "                        if j == trying[0]/100 or n == trying[0]/100: break\n",
    "                        elif i == trying[0]%100/10 or n == trying[0]%100/10: break\n",
    "                        elif i == trying[0]%10 or j == trying[0]%10: break\n",
    "                        Answer[i][j][n]=0\n",
    "                        \n",
    "        if ball==2:\n",
    "            for i in range(1,10):\n",
    "                for j in range(1,10):\n",
    "                    for n in range(1,10):\n",
    "                        if i == trying[0]%100/10 and j == trying[0]%10 and n == trying[0]/100 : Answer[i][j][n]=0\n",
    "                        elif i == trying[0]%10 and j == trying[0]/100 and n == trying[0]%100/10 : Answer[i][j][n]=0             \n",
    "                            \n",
    "                        if (i == trying[0]%100/10 or i == trying[0]%10) and (j == trying[0]/100 or j == trying[0]%10): break\n",
    "                        elif (i == trying[0]%100/10 or i == trying[0]%10) and (n == trying[0]/100 or n == trying[0]%100/10): break\n",
    "                        elif (n == trying[0]/100 or n == trying[0]%100/10) and (j == trying[0]/100 or j == trying[0]%10): break\n",
    "                        Answer[i][j][n]=0\n",
    "        if ball==3:\n",
    "            for i in range(1,10):\n",
    "                for j in range(1,10):\n",
    "                    for n in range(1,10):\n",
    "                        if i == trying[0]%100/10 and j == trying[0]%10 and n == trying[0]/100 : break\n",
    "                        elif i == trying[0]%10 and j == trying[0]/100 and n == trying[0]%100/10 : break\n",
    "                        Answer[i][j][n]=0\n",
    "        \n",
    "            \n",
    "        out=3-i[1]-i[2]\n",
    "        \n",
    "                    \n",
    "    \n",
    "    return answer\n",
    "    '''"
   ]
  },
  {
   "cell_type": "code",
   "execution_count": 46,
   "metadata": {},
   "outputs": [],
   "source": [
    "from itertools import permutations as perm\n",
    "\n",
    "def solution(List):\n",
    "    remove_list=[]\n",
    "    result = [''.join(x) for x in perm('123456789',3)]\n",
    "\n",
    "    for trying in List:\n",
    "\n",
    "        numbers = list(str(trying[0]))\n",
    "        strike = trying[1]\n",
    "        ball = trying[2]\n",
    "\n",
    "        strike_count = 0 \n",
    "        ball_count = 0 \n",
    "        case_list=[]\n",
    "\n",
    "        for i in result:\n",
    "\n",
    "            comp_numbers=list(str(i))\n",
    "            case_list=[[numbers[n],comp_numbers[m]] for n in range(3) for m in range(3)]\n",
    "            count=0\n",
    "            for value in case_list:\n",
    "                if count== 0 or count== 4 or count== 8:\n",
    "                    if value[0] == value[1]:\n",
    "                        strike_count += 1\n",
    "                else:\n",
    "                    if value[0] == value[1]:\n",
    "                        ball_count+=1\n",
    "                count +=1\n",
    "\n",
    "            if (strike != strike_count) or (ball != ball_count):\n",
    "                remove_list.append(i)\n",
    "\n",
    "            strike_count=0 \n",
    "            ball_count=0 \n",
    "            case_list=[]    \n",
    "\n",
    "        for remove in remove_list:\n",
    "            result.remove(remove)\n",
    "        remove_list=[]\n",
    "        \n",
    "    return len(result)"
   ]
  },
  {
   "cell_type": "code",
   "execution_count": 47,
   "metadata": {},
   "outputs": [
    {
     "data": {
      "text/plain": [
       "2"
      ]
     },
     "execution_count": 47,
     "metadata": {},
     "output_type": "execute_result"
    }
   ],
   "source": [
    "solution([[123, 1, 1], [356, 1, 0], [327, 2, 0], [489, 0, 1]])"
   ]
  }
 ],
 "metadata": {
  "kernelspec": {
   "display_name": "Python 3",
   "language": "python",
   "name": "python3"
  },
  "language_info": {
   "codemirror_mode": {
    "name": "ipython",
    "version": 3
   },
   "file_extension": ".py",
   "mimetype": "text/x-python",
   "name": "python",
   "nbconvert_exporter": "python",
   "pygments_lexer": "ipython3",
   "version": "3.7.0"
  }
 },
 "nbformat": 4,
 "nbformat_minor": 2
}
