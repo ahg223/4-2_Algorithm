{
 "cells": [
  {
   "cell_type": "markdown",
   "metadata": {},
   "source": [
    "For making Huffman Tree"
   ]
  },
  {
   "cell_type": "code",
   "execution_count": 1,
   "metadata": {},
   "outputs": [],
   "source": [
    "Huff={}"
   ]
  },
  {
   "cell_type": "code",
   "execution_count": 2,
   "metadata": {},
   "outputs": [],
   "source": [
    "def MakeHuff(str):\n",
    "    global Huff\n",
    "    str=sorted(str)\n",
    "    \n",
    "    i=str.pop(0)\n",
    "    try:\n",
    "        j=str.pop(0)\n",
    "    except:\n",
    "        return\n",
    "    \n",
    "    str.append(i+j)\n",
    "    Huff[i+j]=[i,j]\n",
    "    MakeHuff(str)\n",
    "    \n",
    "def MakeHuff2(str):\n",
    "    for i in str:\n",
    "        Huff[i]=[]"
   ]
  },
  {
   "cell_type": "markdown",
   "metadata": {},
   "source": [
    "DFS"
   ]
  },
  {
   "cell_type": "code",
   "execution_count": 3,
   "metadata": {},
   "outputs": [],
   "source": [
    "def Root(str):\n",
    "    root=0\n",
    "    for i in str:\n",
    "        root+=i\n",
    "        \n",
    "    return root\n",
    "\n",
    "def DFS_Huff(root):\n",
    "    global Huff\n",
    "    print(Huff)\n",
    "    visited=[]\n",
    "    stack=[root]\n",
    "    while stack:\n",
    "        node=stack.pop()\n",
    "        visited.append(node)\n",
    "        for i in Huff[node]:\n",
    "            if i not in visited+stack:\n",
    "                try:\n",
    "                    stack.append(i)\n",
    "                except:\n",
    "                    print(\"Key!!\")\n",
    "            print(stack)\n",
    "            print(visited)\n",
    "    return visited"
   ]
  },
  {
   "cell_type": "markdown",
   "metadata": {},
   "source": [
    "Main Func"
   ]
  },
  {
   "cell_type": "code",
   "execution_count": 4,
   "metadata": {},
   "outputs": [
    {
     "name": "stdout",
     "output_type": "stream",
     "text": [
      "{0.3: [0.15, 0.15], 0.45: [0.2, 0.25], 0.55: [0.25, 0.3], 1.0: [0.45, 0.55], 0.25: [], 0.2: [], 0.15: []}\n",
      "[0.45]\n",
      "[1.0]\n",
      "[0.45, 0.55]\n",
      "[1.0]\n",
      "[0.45, 0.25]\n",
      "[1.0, 0.55]\n",
      "[0.45, 0.25, 0.3]\n",
      "[1.0, 0.55]\n",
      "[0.45, 0.25, 0.15]\n",
      "[1.0, 0.55, 0.3]\n",
      "[0.45, 0.25, 0.15]\n",
      "[1.0, 0.55, 0.3]\n",
      "[0.2]\n",
      "[1.0, 0.55, 0.3, 0.15, 0.25, 0.45]\n",
      "[0.2]\n",
      "[1.0, 0.55, 0.3, 0.15, 0.25, 0.45]\n"
     ]
    },
    {
     "data": {
      "text/plain": [
       "[1.0, 0.55, 0.3, 0.15, 0.25, 0.45, 0.2]"
      ]
     },
     "execution_count": 4,
     "metadata": {},
     "output_type": "execute_result"
    }
   ],
   "source": [
    "a=[0.25,0.25,0.2,0.15,0.15]\n",
    "MakeHuff(a)\n",
    "MakeHuff2(a)\n",
    "DFS_Huff(Root(a))"
   ]
  }
 ],
 "metadata": {
  "kernelspec": {
   "display_name": "Python 3",
   "language": "python",
   "name": "python3"
  },
  "language_info": {
   "codemirror_mode": {
    "name": "ipython",
    "version": 3
   },
   "file_extension": ".py",
   "mimetype": "text/x-python",
   "name": "python",
   "nbconvert_exporter": "python",
   "pygments_lexer": "ipython3",
   "version": "3.7.0"
  }
 },
 "nbformat": 4,
 "nbformat_minor": 2
}
