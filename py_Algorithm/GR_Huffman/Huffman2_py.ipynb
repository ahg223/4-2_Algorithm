{
 "cells": [
  {
   "cell_type": "code",
   "execution_count": 1,
   "metadata": {},
   "outputs": [],
   "source": [
    "import heapq"
   ]
  },
  {
   "cell_type": "code",
   "execution_count": 2,
   "metadata": {},
   "outputs": [],
   "source": [
    "class HeapNode:\n",
    "\tdef __init__(self, char, freq):\n",
    "\t\tself.char = char\n",
    "\t\tself.freq = freq\n",
    "\t\tself.left = None\n",
    "\t\tself.right = None\n",
    "\n",
    "\tdef __lt__(self, other):\n",
    "\t\treturn self.freq < other.freq\n",
    "\n",
    "\tdef __eq__(self, other):\n",
    "\t\tif(other == None):\n",
    "\t\t\treturn False\n",
    "\t\tif(not isinstance(other, HeapNode)):\n",
    "\t\t\treturn False\n",
    "\t\treturn self.freq == other.freq"
   ]
  },
  {
   "cell_type": "code",
   "execution_count": 11,
   "metadata": {},
   "outputs": [],
   "source": [
    "class HuffmanCoding:\n",
    "\tdef __init__(self):\n",
    "\t\tself.heap = []\n",
    "\t\tself.codes = {}\n",
    "\n",
    "\tdef make_frequency_dict(self, text):\n",
    "\t\tfrequency = {}\n",
    "\t\tfor character in text:\n",
    "\t\t\tif not character in frequency:\n",
    "\t\t\t\tfrequency[character] = 0\n",
    "\t\t\tfrequency[character] += 1\n",
    "\t\treturn frequency\n",
    "\n",
    "\tdef make_heap(self, frequency):\n",
    "\t\tfor key in frequency:\n",
    "\t\t\tnode = HeapNode(key, frequency[key])\n",
    "\t\t\theapq.heappush(self.heap, node)\n",
    "\n",
    "\tdef merge_nodes(self):\n",
    "\t\twhile(len(self.heap)>1):\n",
    "\t\t\tnode1 = heapq.heappop(self.heap)\n",
    "\t\t\tnode2 = heapq.heappop(self.heap)\n",
    "\n",
    "\t\t\tmerged = HeapNode(None, node1.freq + node2.freq)\n",
    "\t\t\tmerged.left = node1\n",
    "\t\t\tmerged.right = node2\n",
    "\n",
    "\t\t\theapq.heappush(self.heap, merged)\n",
    "\n",
    "\n",
    "\tdef make_codes_helper(self, root, current_code):\n",
    "\t\tif(root == None):\n",
    "\t\t\treturn\n",
    "\n",
    "\t\tif(root.char != None):\n",
    "\t\t\tself.codes[root.char] = current_code\n",
    "\t\t\treturn\n",
    "\n",
    "\t\tself.make_codes_helper(root.left, current_code + \"0\")\n",
    "\t\tself.make_codes_helper(root.right, current_code + \"1\")\n",
    "\n",
    "\n",
    "\tdef make_codes(self):\n",
    "\t\troot = heapq.heappop(self.heap)\n",
    "\t\tcurrent_code = \"\"\n",
    "\t\tself.make_codes_helper(root, current_code)\n",
    "        \n",
    "        \n",
    "\tdef compress(self):\n",
    "\t\ttext=input(\"Typing string to make Huffman code\\n\")\n",
    "\n",
    "\t\tfrequency = self.make_frequency_dict(text)\n",
    "\t\tself.make_heap(frequency)\n",
    "\t\tself.merge_nodes()\n",
    "\t\tself.make_codes()\n",
    "\n",
    "\t\tb = self.codes\n",
    "\t\tprint(b)\n"
   ]
  },
  {
   "cell_type": "code",
   "execution_count": 12,
   "metadata": {},
   "outputs": [
    {
     "name": "stdout",
     "output_type": "stream",
     "text": [
      "Typing string to make Huffman code\n",
      "asdfabfwgb\n",
      "{'w': '000', 'g': '001', 'f': '01', 'a': '10', 's': '1100', 'd': '1101', 'b': '111'}\n",
      "{'w': '000', 'g': '001', 'f': '01', 'a': '10', 's': '1100', 'd': '1101', 'b': '111'}\n"
     ]
    }
   ],
   "source": [
    "\n",
    "h = HuffmanCoding()\n",
    "h.compress()\n",
    "print(h.codes)\n"
   ]
  }
 ],
 "metadata": {
  "kernelspec": {
   "display_name": "Python 3",
   "language": "python",
   "name": "python3"
  },
  "language_info": {
   "codemirror_mode": {
    "name": "ipython",
    "version": 3
   },
   "file_extension": ".py",
   "mimetype": "text/x-python",
   "name": "python",
   "nbconvert_exporter": "python",
   "pygments_lexer": "ipython3",
   "version": "3.7.0"
  }
 },
 "nbformat": 4,
 "nbformat_minor": 2
}
