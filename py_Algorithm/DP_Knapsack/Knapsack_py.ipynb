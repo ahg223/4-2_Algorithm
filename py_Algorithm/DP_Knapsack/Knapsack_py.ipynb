{
 "cells": [
  {
   "cell_type": "code",
   "execution_count": 3,
   "metadata": {},
   "outputs": [],
   "source": [
    "def knapSack(W , wt , val , n): \n",
    "    if n == 0 or W == 0 : \n",
    "        return 0\n",
    "    if (wt[n-1] > W): \n",
    "        return knapSack(W , wt , val , n-1) \n",
    "\n",
    "    else: \n",
    "        return max(val[n-1] + knapSack(W-wt[n-1] , wt , val , n-1), \n",
    "                   knapSack(W , wt , val , n-1)) "
   ]
  },
  {
   "cell_type": "code",
   "execution_count": 4,
   "metadata": {},
   "outputs": [
    {
     "name": "stdout",
     "output_type": "stream",
     "text": [
      "Enter number of items:3\n",
      "Enter value of items:20\n",
      "Enter weight of items:7\n",
      "Enter value of items:34\n",
      "Enter weight of items:10\n",
      "Enter value of items:5\n",
      "Enter weight of items:15\n",
      "Enter size of knapsack:20\n",
      "54\n"
     ]
    }
   ],
   "source": [
    "n = int(input(\"Enter number of items:\"))\n",
    "val=[]\n",
    "wt=[]\n",
    "for i in range(n):\n",
    "    val.append(int(input(\"Enter value of items:\"))) \n",
    "    wt.append(int(input(\"Enter weight of items:\")))\n",
    "W = int(input(\"Enter size of knapsack:\"))\n",
    "print(knapSack(W , wt , val , n)) "
   ]
  }
 ],
 "metadata": {
  "kernelspec": {
   "display_name": "Python 3",
   "language": "python",
   "name": "python3"
  },
  "language_info": {
   "codemirror_mode": {
    "name": "ipython",
    "version": 3
   },
   "file_extension": ".py",
   "mimetype": "text/x-python",
   "name": "python",
   "nbconvert_exporter": "python",
   "pygments_lexer": "ipython3",
   "version": "3.7.0"
  }
 },
 "nbformat": 4,
 "nbformat_minor": 2
}
