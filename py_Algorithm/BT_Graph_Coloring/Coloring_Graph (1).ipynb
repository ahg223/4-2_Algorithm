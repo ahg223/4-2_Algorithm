{
 "cells": [
  {
   "cell_type": "code",
   "execution_count": 7,
   "metadata": {},
   "outputs": [
    {
     "name": "stdout",
     "output_type": "stream",
     "text": [
      "How many vertex your graph has? 4\n",
      "How many edge your graph has? 5\n",
      "Start node of 1 edge: 0\n",
      "End node of 1 edge: 1\n",
      "Start node of 2 edge: 0\n",
      "End node of 2 edge: 2\n",
      "Start node of 3 edge: 0\n",
      "End node of 3 edge: 3\n",
      "Start node of 4 edge: 1\n",
      "End node of 4 edge: 2\n",
      "Start node of 5 edge: 1\n",
      "End node of 5 edge: 3\n",
      "[[0, 1, 1, 1], [1, 0, 1, 1], [1, 1, 0, 0], [1, 1, 0, 0]]\n",
      "Solution exist and Following are the assigned colours:\n",
      "1\n",
      "2\n",
      "3\n",
      "3\n"
     ]
    },
    {
     "data": {
      "text/plain": [
       "True"
      ]
     },
     "execution_count": 7,
     "metadata": {},
     "output_type": "execute_result"
    }
   ],
   "source": [
    "class Graph(): \n",
    "  \n",
    "    def __init__(self, vertices): \n",
    "        self.V = vertices \n",
    "        self.graph = [[0 for column in range(vertices)] for row in range(vertices)] \n",
    "  \n",
    "    def isSafe(self, v, colour, c): \n",
    "        for i in range(self.V): \n",
    "            if self.graph[v][i] == 1 and colour[i] == c: \n",
    "                return False\n",
    "        return True\n",
    "      \n",
    "    def graphColourUtil(self, m, colour, v): \n",
    "        if v == self.V: \n",
    "            return True\n",
    "  \n",
    "        for c in range(1, m+1): \n",
    "            if self.isSafe(v, colour, c) == True: \n",
    "                colour[v] = c \n",
    "                if self.graphColourUtil(m, colour, v+1) == True: \n",
    "                    return True\n",
    "                colour[v] = 0\n",
    "  \n",
    "    def graphColouring(self, m): \n",
    "        colour = [0] * self.V \n",
    "        if self.graphColourUtil(m, colour, 0) == False: \n",
    "            return False\n",
    "  \n",
    "        print (\"Following are the assigned colours:\")\n",
    "        for c in colour: \n",
    "            print (c)\n",
    "        return True\n",
    "  \n",
    "vertex=int(input(\"How many vertex your graph has? \"))\n",
    "edge=int(input(\"How many edge your graph has? \"))\n",
    "\n",
    "GRAPH=[[0 for i in range(vertex)] for j in range(vertex)]\n",
    "for i in range(1,edge+1):\n",
    "    a=int(input(\"Start node of %d edge: \"%i))\n",
    "    b=int(input(\"End node of %d edge: \"%i))\n",
    "    GRAPH[a][b]=1\n",
    "    GRAPH[b][a]=1\n",
    "g=Graph(vertex)\n",
    "g.graph = GRAPH\n",
    "print(GRAPH)\n",
    "#[[0,1,1,1], [1,0,1,0], [1,1,0,1], [1,0,1,0]] \n",
    "m=4\n",
    "g.graphColouring(m)"
   ]
  }
 ],
 "metadata": {
  "kernelspec": {
   "display_name": "Python 3",
   "language": "python",
   "name": "python3"
  },
  "language_info": {
   "codemirror_mode": {
    "name": "ipython",
    "version": 3
   },
   "file_extension": ".py",
   "mimetype": "text/x-python",
   "name": "python",
   "nbconvert_exporter": "python",
   "pygments_lexer": "ipython3",
   "version": "3.7.0"
  }
 },
 "nbformat": 4,
 "nbformat_minor": 2
}
