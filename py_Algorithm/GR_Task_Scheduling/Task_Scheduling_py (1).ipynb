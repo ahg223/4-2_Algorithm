{
 "cells": [
  {
   "cell_type": "markdown",
   "metadata": {},
   "source": [
    "Task Scheduling"
   ]
  },
  {
   "cell_type": "code",
   "execution_count": 46,
   "metadata": {},
   "outputs": [],
   "source": [
    "def interval_scheduling(stimes, ftimes, count):\n",
    "    if len(stimes)==0: \n",
    "        print('A maximum-size subset of activities that are mutually compatible is',count)\n",
    "        return\n",
    "\n",
    "    index = list(range(len(stimes)))\n",
    "    \n",
    "    index.sort(key=lambda i: ftimes[i])\n",
    "\n",
    "    maximal_set = set()\n",
    "    prev_finish_time = 0\n",
    "    \n",
    "    for i in index:\n",
    "        if stimes[i] >= prev_finish_time:\n",
    "            maximal_set.add(i)\n",
    "            prev_finish_time = ftimes[i]\n",
    "            \n",
    "    maximal_set=sorted(maximal_set,reverse=True)\n",
    "    for i in maximal_set:\n",
    "        stimes.pop(i)\n",
    "        ftimes.pop(i)\n",
    "    count+=1\n",
    "\n",
    "    interval_scheduling(stimes,ftimes,count)\n",
    " "
   ]
  },
  {
   "cell_type": "code",
   "execution_count": 47,
   "metadata": {},
   "outputs": [
    {
     "name": "stdout",
     "output_type": "stream",
     "text": [
      "Enter number of activities: 5\n",
      "Enter the start time of the 5 activities in order: 1 3 5 7 9\n",
      "Enter the finish times of the 5 activities in order: 2 4 6 8 10\n",
      "A maximum-size subset of activities that are mutually compatible is 1\n"
     ]
    }
   ],
   "source": [
    " \n",
    "n = int(input('Enter number of activities: '))\n",
    "stimes = input('Enter the start time of the {} activities in order: '.format(n)).split()\n",
    "stimes = [int(st) for st in stimes]\n",
    "ftimes = input('Enter the finish times of the {} activities in order: '.format(n)).split()\n",
    "ftimes = [int(ft) for ft in ftimes]\n",
    "\n",
    "interval_scheduling(stimes, ftimes,0)\n"
   ]
  }
 ],
 "metadata": {
  "kernelspec": {
   "display_name": "Python 3",
   "language": "python",
   "name": "python3"
  },
  "language_info": {
   "codemirror_mode": {
    "name": "ipython",
    "version": 3
   },
   "file_extension": ".py",
   "mimetype": "text/x-python",
   "name": "python",
   "nbconvert_exporter": "python",
   "pygments_lexer": "ipython3",
   "version": "3.7.0"
  }
 },
 "nbformat": 4,
 "nbformat_minor": 2
}
