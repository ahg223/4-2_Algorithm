{
 "cells": [
  {
   "cell_type": "code",
   "execution_count": 5,
   "metadata": {},
   "outputs": [],
   "source": [
    "def Fun(Num):\n",
    "    if Num==1: return 1\n",
    "    elif Num==2: return 2\n",
    "    elif Num==3: return 4\n",
    "    else: return Fun(Num-1)+Fun(Num-2)+Fun(Num-3)"
   ]
  },
  {
   "cell_type": "code",
   "execution_count": 6,
   "metadata": {},
   "outputs": [
    {
     "name": "stdout",
     "output_type": "stream",
     "text": [
      "Typing int you want to find: 6\n",
      "24 \n",
      "\n"
     ]
    }
   ],
   "source": [
    "Num=int(input(\"Typing int you want to find: \"))\n",
    "\n",
    "if (Num<3): print(\"Need more int than 3\")\n",
    "else: print(\"%d \\n\"%Fun(Num))"
   ]
  }
 ],
 "metadata": {
  "kernelspec": {
   "display_name": "Python 3",
   "language": "python",
   "name": "python3"
  },
  "language_info": {
   "codemirror_mode": {
    "name": "ipython",
    "version": 3
   },
   "file_extension": ".py",
   "mimetype": "text/x-python",
   "name": "python",
   "nbconvert_exporter": "python",
   "pygments_lexer": "ipython3",
   "version": "3.7.0"
  }
 },
 "nbformat": 4,
 "nbformat_minor": 2
}
