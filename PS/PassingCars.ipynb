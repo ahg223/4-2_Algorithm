{
 "cells": [
  {
   "cell_type": "code",
   "execution_count": 11,
   "metadata": {},
   "outputs": [],
   "source": [
    "def solution(A):\n",
    "    Result=0\n",
    "    Num=0\n",
    "    i=0\n",
    "    j=len(A)-1\n",
    "    while(j>0):\n",
    "        j=len(A)-i-1\n",
    "        if A[j] == 0:\n",
    "            Result+=Num\n",
    "        else:\n",
    "            Num+=1\n",
    "        i+=1\n",
    "        \n",
    "        if Result>1000000000:\n",
    "            return -1\n",
    "        \n",
    "    return Result"
   ]
  },
  {
   "cell_type": "code",
   "execution_count": 12,
   "metadata": {},
   "outputs": [
    {
     "data": {
      "text/plain": [
       "5"
      ]
     },
     "execution_count": 12,
     "metadata": {},
     "output_type": "execute_result"
    }
   ],
   "source": [
    "solution([0, 1, 0, 1, 1] )"
   ]
  }
 ],
 "metadata": {
  "kernelspec": {
   "display_name": "Python [default]",
   "language": "python",
   "name": "python3"
  },
  "language_info": {
   "codemirror_mode": {
    "name": "ipython",
    "version": 3
   },
   "file_extension": ".py",
   "mimetype": "text/x-python",
   "name": "python",
   "nbconvert_exporter": "python",
   "pygments_lexer": "ipython3",
   "version": "3.6.3"
  }
 },
 "nbformat": 4,
 "nbformat_minor": 2
}
