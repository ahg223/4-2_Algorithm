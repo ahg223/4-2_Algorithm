{
 "cells": [
  {
   "cell_type": "code",
   "execution_count": 25,
   "metadata": {
    "collapsed": true
   },
   "outputs": [],
   "source": [
    "def solution(A):\n",
    "    length=len(A)\n",
    "    Sum=sum(A,0)\n",
    "    print(length,Sum)\n",
    "    a=1\n",
    "    val=0\n",
    "    answer=10000\n",
    "    while(length>a):\n",
    "        val+=A[a]\n",
    "        print(val)\n",
    "        result=abs(Sum-val*2)\n",
    "        if(answer>result):\n",
    "            answer=result\n",
    "        a+=1\n",
    "        print(answer)\n",
    "    return answer"
   ]
  },
  {
   "cell_type": "code",
   "execution_count": 26,
   "metadata": {},
   "outputs": [
    {
     "name": "stdout",
     "output_type": "stream",
     "text": [
      "2 0\n",
      "1000\n",
      "2000\n",
      "5 18\n",
      "6\n",
      "6\n",
      "8\n",
      "2\n",
      "12\n",
      "2\n",
      "13\n",
      "2\n"
     ]
    },
    {
     "data": {
      "text/plain": [
       "2"
      ]
     },
     "execution_count": 26,
     "metadata": {},
     "output_type": "execute_result"
    }
   ],
   "source": [
    "solution([-1000,1000])\n",
    "solution([5,6,2,4,1])"
   ]
  }
 ],
 "metadata": {
  "kernelspec": {
   "display_name": "Python 3",
   "language": "python",
   "name": "python3"
  },
  "language_info": {
   "codemirror_mode": {
    "name": "ipython",
    "version": 3
   },
   "file_extension": ".py",
   "mimetype": "text/x-python",
   "name": "python",
   "nbconvert_exporter": "python",
   "pygments_lexer": "ipython3",
   "version": "3.6.2"
  }
 },
 "nbformat": 4,
 "nbformat_minor": 2
}
