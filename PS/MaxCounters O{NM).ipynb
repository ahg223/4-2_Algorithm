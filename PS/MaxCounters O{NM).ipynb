{
 "cells": [
  {
   "cell_type": "code",
   "execution_count": null,
   "metadata": {
    "collapsed": true
   },
   "outputs": [],
   "source": [
    "def solution(N, A):\n",
    "    i=0\n",
    "    Max=0\n",
    "    Result=[0 for _ in range(N)]\n",
    "    while(len(A)>i):\n",
    "        if A[i] == N+1:\n",
    "            Result=[Max for _ in range(N)]\n",
    "        else:\n",
    "            Result[A[i]-1]+=1\n",
    "            \n",
    "        if A[i] != N+1 and Result[A[i]-1]>Max:\n",
    "            Max=Result[A[i]-1]\n",
    "        i+=1\n",
    "        \n",
    "    return Result"
   ]
  }
 ],
 "metadata": {
  "kernelspec": {
   "display_name": "Python 3",
   "language": "python",
   "name": "python3"
  },
  "language_info": {
   "codemirror_mode": {
    "name": "ipython",
    "version": 3
   },
   "file_extension": ".py",
   "mimetype": "text/x-python",
   "name": "python",
   "nbconvert_exporter": "python",
   "pygments_lexer": "ipython3",
   "version": "3.6.2"
  }
 },
 "nbformat": 4,
 "nbformat_minor": 2
}
