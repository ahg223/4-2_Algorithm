{
 "cells": [
  {
   "cell_type": "code",
   "execution_count": 11,
   "metadata": {},
   "outputs": [],
   "source": [
    "def solution(N, A):\n",
    "    i=len(A)-1\n",
    "    \n",
    "    while(i>0):\n",
    "        if A[i] == N+1:\n",
    "            break\n",
    "        i-=1\n",
    "      \n",
    "    j=i\n",
    " \n",
    "    Bottom=A[:i].sort()\n",
    "    Max=0\n",
    "    count=0\n",
    "    while(j>0):\n",
    "        if A[j]==N+1:\n",
    "            continue\n",
    "        elif A[j]==A[j-1]:\n",
    "            count+=1\n",
    "        else:\n",
    "            count=1\n",
    "            \n",
    "        if count>=Max:\n",
    "            Max=count\n",
    "        j-=1\n",
    "          \n",
    "    Result=[Max for _ in range(N)]\n",
    "    \n",
    "    Top=A[i:]\n",
    "    i+=1\n",
    "    while(len(A)>i):\n",
    "        Result[A[i]-1]+=1\n",
    "        i+=1\n",
    "        print(Result)\n",
    "           \n",
    "    return Result\n",
    "    "
   ]
  },
  {
   "cell_type": "code",
   "execution_count": null,
   "metadata": {},
   "outputs": [],
   "source": [
    "solution(5, [3, 4, 4, 6, 1, 4, 4])"
   ]
  },
  {
   "cell_type": "code",
   "execution_count": 13,
   "metadata": {},
   "outputs": [
    {
     "data": {
      "text/plain": [
       "[0]"
      ]
     },
     "execution_count": 13,
     "metadata": {},
     "output_type": "execute_result"
    }
   ],
   "source": [
    "solution(1, [1])"
   ]
  }
 ],
 "metadata": {
  "kernelspec": {
   "display_name": "Python 3",
   "language": "python",
   "name": "python3"
  }
 },
 "nbformat": 4,
 "nbformat_minor": 2
}
