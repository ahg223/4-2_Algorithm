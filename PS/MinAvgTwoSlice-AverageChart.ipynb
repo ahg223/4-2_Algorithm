{
 "cells": [
  {
   "cell_type": "code",
   "execution_count": 31,
   "metadata": {},
   "outputs": [],
   "source": [
    "def solution(A):\n",
    "    LeftArr=[A[0] for _ in range(len(A))]\n",
    "    RightArr=[A[len(A)-1] for _ in range(len(A))]\n",
    "    \n",
    "    LTop=A[0]\n",
    "    L=0\n",
    "    i=0\n",
    "    while len(A)-1>i:\n",
    "        LeftArr[i+1] = (LeftArr[i]*(i+1) + A[i+1]) / (i+2)\n",
    "        if LeftArr[i+1]>LTop:\n",
    "            LTop=LeftArr[i+1]\n",
    "            L=i\n",
    "        i+=1\n",
    "    print (LeftArr, LTop)\n",
    "    print(L)\n",
    "    \n",
    "    RTop=A[len(A)-1]\n",
    "    R=0    \n",
    "    i=0\n",
    "    while len(A)-1>i:\n",
    "        RightArr[i+1] = (RightArr[i]*(i+1) + A[len(A)-i-2]) / (i+2)\n",
    "        if RightArr[i+1]>RTop:\n",
    "            RTop=RightArr[i+1]\n",
    "            R=i\n",
    "        i+=1\n",
    "    print (RightArr, RTop, R)\n",
    "\n",
    "    if RTop>LTop:\n",
    "        LTop=0\n",
    "        L=0\n",
    "        i=0\n",
    "        while (len(A)-R)>i:\n",
    "            if LeftArr[i]>LTop:\n",
    "                LTop=LeftArr[i]\n",
    "                L=i\n",
    "            i+=1\n",
    "        \n",
    "    return L+1"
   ]
  },
  {
   "cell_type": "code",
   "execution_count": 32,
   "metadata": {},
   "outputs": [
    {
     "name": "stdout",
     "output_type": "stream",
     "text": [
      "[4, 3.0, 2.6666666666666665, 3.25, 2.8, 3.1666666666666665, 3.857142857142857] 4\n",
      "0\n",
      "[8, 6.5, 4.666666666666667, 4.75, 4.2, 3.8333333333333335, 3.857142857142857] 8 0\n"
     ]
    },
    {
     "data": {
      "text/plain": [
       "1"
      ]
     },
     "execution_count": 32,
     "metadata": {},
     "output_type": "execute_result"
    }
   ],
   "source": [
    "solution([4,2,2,5,1,5,8])"
   ]
  }
 ],
 "metadata": {
  "kernelspec": {
   "display_name": "Python [conda env:Anaconda3]",
   "language": "python",
   "name": "conda-env-Anaconda3-py"
  },
  "language_info": {
   "codemirror_mode": {
    "name": "ipython",
    "version": 3
   },
   "file_extension": ".py",
   "mimetype": "text/x-python",
   "name": "python",
   "nbconvert_exporter": "python",
   "pygments_lexer": "ipython3",
   "version": "3.6.3"
  }
 },
 "nbformat": 4,
 "nbformat_minor": 2
}
