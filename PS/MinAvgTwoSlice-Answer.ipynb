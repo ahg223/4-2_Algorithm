{
 "cells": [
  {
   "cell_type": "code",
   "execution_count": 1,
   "metadata": {
    "collapsed": true
   },
   "outputs": [],
   "source": [
    "def solution(A):\n",
    "    Min=10000\n",
    "    MinAvg=0\n",
    "    \n",
    "    j=0\n",
    "    i=0\n",
    "    while len(A)-3>i:\n",
    "        MinAvg=(A[i]+A[i+1])/2\n",
    "        if Min>MinAvg:\n",
    "            Min=MinAvg\n",
    "            j=i\n",
    "        MinAvg=(A[i]+A[i+1]+A[i+2])/3\n",
    "        if Min>MinAvg:\n",
    "            Min=MinAvg\n",
    "            j=i\n",
    "        i+=1\n",
    "        \n",
    "    if len(A)>2:\n",
    "        MinAvg=(A[len(A)-1]+A[len(A)-2]+A[len(A)-3])/3\n",
    "        if Min>MinAvg:\n",
    "            Min=MinAvg\n",
    "            j=len(A)-3\n",
    "        \n",
    "    MinAvg=(A[len(A)-1]+A[len(A)-2])/2\n",
    "    if Min>MinAvg:\n",
    "        Min=MinAvg\n",
    "        j=len(A)-2\n",
    "        \n",
    "    return j"
   ]
  }
 ],
 "metadata": {
  "kernelspec": {
   "display_name": "Python [conda env:Anaconda3]",
   "language": "python",
   "name": "conda-env-Anaconda3-py"
  },
  "language_info": {
   "codemirror_mode": {
    "name": "ipython",
    "version": 3
   },
   "file_extension": ".py",
   "mimetype": "text/x-python",
   "name": "python",
   "nbconvert_exporter": "python",
   "pygments_lexer": "ipython3",
   "version": "3.6.3"
  }
 },
 "nbformat": 4,
 "nbformat_minor": 2
}
