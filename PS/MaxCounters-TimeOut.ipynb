{
 "cells": [
  {
   "cell_type": "code",
   "execution_count": 6,
   "metadata": {
    "collapsed": true
   },
   "outputs": [],
   "source": [
    "def solution(N, A):\n",
    "    Result=[0 for _ in range(N)]\n",
    "    i=0\n",
    "    counter=0\n",
    "    \n",
    "    while(len(A)>i):\n",
    "        if A[i]!=N+1:\n",
    "            Result[A[i]-1]+=1\n",
    "            if Result[A[i]-1]>counter:\n",
    "                counter=Result[A[i]-1]\n",
    "        else:\n",
    "            Result=[counter for _ in range(N)]\n",
    "        i+=1\n",
    "        print(Result)\n",
    "        \n",
    "    return Result"
   ]
  },
  {
   "cell_type": "code",
   "execution_count": 7,
   "metadata": {},
   "outputs": [
    {
     "name": "stdout",
     "output_type": "stream",
     "text": [
      "[0, 0, 1, 0, 0]\n",
      "[0, 0, 1, 1, 0]\n",
      "[0, 0, 1, 2, 0]\n",
      "[2, 2, 2, 2, 2]\n",
      "[3, 2, 2, 2, 2]\n",
      "[3, 2, 2, 3, 2]\n",
      "[3, 2, 2, 4, 2]\n"
     ]
    },
    {
     "data": {
      "text/plain": [
       "[3, 2, 2, 4, 2]"
      ]
     },
     "execution_count": 7,
     "metadata": {},
     "output_type": "execute_result"
    }
   ],
   "source": [
    "solution(5, [3, 4, 4, 6, 1, 4, 4])"
   ]
  }
 ],
 "metadata": {
  "kernelspec": {
   "display_name": "Python 3",
   "language": "python",
   "name": "python3"
  },
  "language_info": {
   "codemirror_mode": {
    "name": "ipython",
    "version": 3
   },
   "file_extension": ".py",
   "mimetype": "text/x-python",
   "name": "python",
   "nbconvert_exporter": "python",
   "pygments_lexer": "ipython3",
   "version": "3.6.2"
  }
 },
 "nbformat": 4,
 "nbformat_minor": 2
}
