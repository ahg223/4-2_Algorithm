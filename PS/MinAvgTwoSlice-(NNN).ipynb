{
 "cells": [
  {
   "cell_type": "code",
   "execution_count": 22,
   "metadata": {},
   "outputs": [],
   "source": [
    "def solution(A):\n",
    "    Avg=[0 for _ in range((len(A)-1)*len(A)//2)]\n",
    "    Top=[1000000,0]\n",
    "    N=0\n",
    "    \n",
    "    i=0\n",
    "    while len(A)-1>i:\n",
    "        j=0\n",
    "        while len(A)-i>j:\n",
    "            if j==0:\n",
    "                Avg[N]=(A[i]+A[i+1])/2\n",
    "                j+=1\n",
    "            else:\n",
    "                Avg[N]=(Avg[N-1]*j + A[j+i]) / (j+1)\n",
    "            \n",
    "            if Avg[N]<Top[0]:\n",
    "                Top[0]=Avg[N]\n",
    "                Top[1]=i\n",
    "            j+=1\n",
    "            N+=1\n",
    "        i+=1\n",
    "        \n",
    "    \n",
    "        \n",
    "    return Top[1]"
   ]
  },
  {
   "cell_type": "code",
   "execution_count": 23,
   "metadata": {},
   "outputs": [
    {
     "data": {
      "text/plain": [
       "1"
      ]
     },
     "execution_count": 23,
     "metadata": {},
     "output_type": "execute_result"
    }
   ],
   "source": [
    "solution([4,2,2,5,1,5,8])"
   ]
  }
 ],
 "metadata": {
  "kernelspec": {
   "display_name": "Python [conda env:Anaconda3]",
   "language": "python",
   "name": "conda-env-Anaconda3-py"
  },
  "language_info": {
   "codemirror_mode": {
    "name": "ipython",
    "version": 3
   },
   "file_extension": ".py",
   "mimetype": "text/x-python",
   "name": "python",
   "nbconvert_exporter": "python",
   "pygments_lexer": "ipython3",
   "version": "3.6.3"
  }
 },
 "nbformat": 4,
 "nbformat_minor": 2
}
