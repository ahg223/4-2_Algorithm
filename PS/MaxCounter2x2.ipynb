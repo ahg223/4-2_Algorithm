{
 "cells": [
  {
   "cell_type": "code",
   "execution_count": 108,
   "metadata": {},
   "outputs": [],
   "source": [
    "def solution(N, A):\n",
    "    col=0\n",
    "    last=0\n",
    "    Result=[[0 for _ in range(N+1)] for _ in range(len(A)+1)]\n",
    "\n",
    "    i=0\n",
    "    while(len(A)>i):\n",
    "        if A[i] != N+1 and Result[col][A[i]-1]>Result[col][N]:\n",
    "            Result[col][A[i]-1]+=1\n",
    "            Result[col][N]=Result[col][A[i]-1]\n",
    "            \n",
    "        elif A[i] != N+1:\n",
    "            Result[col][A[i]-1]+=1\n",
    "\n",
    "        \n",
    "        else:\n",
    "            col+=1\n",
    "            \n",
    "        i+=1\n",
    "            \n",
    "    i=0        \n",
    "    while(col>i):\n",
    "        last+=Result[i][N]\n",
    "        i+=1\n",
    "    print(last)\n",
    "    \n",
    "    i=0\n",
    "    while(N>i):\n",
    "        Result[col][i]+=last\n",
    "        i+=1\n",
    "    \n",
    "    print(Result)\n",
    "    \n",
    "    Final=Result[col][:N]\n",
    "    \n",
    "    \n",
    "    return Final\n"
   ]
  },
  {
   "cell_type": "code",
   "execution_count": 109,
   "metadata": {},
   "outputs": [
    {
     "name": "stdout",
     "output_type": "stream",
     "text": [
      "2\n",
      "[[0, 0, 1, 2, 0, 2], [3, 2, 2, 4, 2, 2], [0, 0, 0, 0, 0, 0], [0, 0, 0, 0, 0, 0], [0, 0, 0, 0, 0, 0], [0, 0, 0, 0, 0, 0], [0, 0, 0, 0, 0, 0], [0, 0, 0, 0, 0, 0]]\n"
     ]
    },
    {
     "data": {
      "text/plain": [
       "[3, 2, 2, 4, 2]"
      ]
     },
     "execution_count": 109,
     "metadata": {},
     "output_type": "execute_result"
    }
   ],
   "source": [
    "solution(5, [3, 4, 4, 6, 1, 4, 4])"
   ]
  },
  {
   "cell_type": "code",
   "execution_count": 110,
   "metadata": {},
   "outputs": [
    {
     "name": "stdout",
     "output_type": "stream",
     "text": [
      "2\n",
      "[[0, 0], [2, 2], [3, 0], [0, 0], [0, 0], [0, 0]]\n"
     ]
    },
    {
     "data": {
      "text/plain": [
       "[3]"
      ]
     },
     "execution_count": 110,
     "metadata": {},
     "output_type": "execute_result"
    }
   ],
   "source": [
    "solution(1, [2, 1, 1, 2, 1])"
   ]
  },
  {
   "cell_type": "code",
   "execution_count": 111,
   "metadata": {},
   "outputs": [
    {
     "name": "stdout",
     "output_type": "stream",
     "text": [
      "0\n",
      "[[0, 0, 0, 0, 0, 0], [0, 0, 0, 0, 0, 0], [0, 0, 0, 0, 0, 0], [0, 0, 0, 0, 0, 0], [0, 0, 0, 0, 0, 0], [0, 0, 0, 0, 0, 0], [0, 0, 0, 0, 0, 0]]\n"
     ]
    },
    {
     "data": {
      "text/plain": [
       "[0, 0, 0, 0, 0]"
      ]
     },
     "execution_count": 111,
     "metadata": {},
     "output_type": "execute_result"
    }
   ],
   "source": [
    "solution(5, [6, 6, 6, 6, 6, 6])"
   ]
  }
 ],
 "metadata": {
  "kernelspec": {
   "display_name": "Python 3",
   "language": "python",
   "name": "python3"
  },
  "language_info": {
   "codemirror_mode": {
    "name": "ipython",
    "version": 3
   },
   "file_extension": ".py",
   "mimetype": "text/x-python",
   "name": "python",
   "nbconvert_exporter": "python",
   "pygments_lexer": "ipython3",
   "version": "3.6.2"
  }
 },
 "nbformat": 4,
 "nbformat_minor": 2
}
