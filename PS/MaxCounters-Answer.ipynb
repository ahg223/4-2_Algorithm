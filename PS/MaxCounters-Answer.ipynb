{
 "cells": [
  {
   "cell_type": "code",
   "execution_count": 10,
   "metadata": {},
   "outputs": [],
   "source": [
    "def solution(N,A):\n",
    "    Result=[0 for _ in range(N)]\n",
    "    tmpMax=0\n",
    "    Max=0\n",
    "    \n",
    "    i=0\n",
    "    while len(A)>i:\n",
    "        if A[i] == N+1:\n",
    "            tmpMax=Max\n",
    "        else:\n",
    "            if tmpMax>Result[A[i]-1]:\n",
    "                Result[A[i]-1]=tmpMax\n",
    "            \n",
    "            Result[A[i]-1]+=1\n",
    "            \n",
    "            if Result[A[i]-1]>Max:\n",
    "                Max=Result[A[i]-1]\n",
    "        i+=1\n",
    "            \n",
    "    i=0\n",
    "    while N>i:\n",
    "        if tmpMax>Result[i]:\n",
    "            Result[i]=tmpMax\n",
    "        i+=1\n",
    "            \n",
    "    return Result"
   ]
  },
  {
   "cell_type": "code",
   "execution_count": 11,
   "metadata": {},
   "outputs": [
    {
     "data": {
      "text/plain": [
       "[3, 2, 2, 4, 2]"
      ]
     },
     "execution_count": 11,
     "metadata": {},
     "output_type": "execute_result"
    }
   ],
   "source": [
    "solution(5,[3,4,4,6,1,4,4])"
   ]
  }
 ],
 "metadata": {
  "kernelspec": {
   "display_name": "Python [conda env:Anaconda3]",
   "language": "python",
   "name": "conda-env-Anaconda3-py"
  },
  "language_info": {
   "codemirror_mode": {
    "name": "ipython",
    "version": 3
   },
   "file_extension": ".py",
   "mimetype": "text/x-python",
   "name": "python",
   "nbconvert_exporter": "python",
   "pygments_lexer": "ipython3",
   "version": "3.6.3"
  }
 },
 "nbformat": 4,
 "nbformat_minor": 2
}
