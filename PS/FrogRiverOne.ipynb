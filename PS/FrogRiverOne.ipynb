{
 "cells": [
  {
   "cell_type": "code",
   "execution_count": 7,
   "metadata": {},
   "outputs": [],
   "source": [
    "def solution(X, A):\n",
    "    River=[0 for _ in range(X)]\n",
    "    i=0\n",
    "    count=0\n",
    "    \n",
    "    while(len(A)>i):\n",
    "        if River[A[i]-1] != 1:\n",
    "            River[A[i]-1]=1\n",
    "            count+=1\n",
    "        if count == X:\n",
    "            return i\n",
    "        i+=1\n",
    "        \n",
    "    return -1"
   ]
  },
  {
   "cell_type": "code",
   "execution_count": 14,
   "metadata": {},
   "outputs": [],
   "source": [
    "solution(5, [1,2,3,4,4] )"
   ]
  }
 ],
 "metadata": {
  "kernelspec": {
   "display_name": "Python 3",
   "language": "python",
   "name": "python3"
  },
  "language_info": {
   "codemirror_mode": {
    "name": "ipython",
    "version": 3
   },
   "file_extension": ".py",
   "mimetype": "text/x-python",
   "name": "python",
   "nbconvert_exporter": "python",
   "pygments_lexer": "ipython3",
   "version": "3.6.2"
  }
 },
 "nbformat": 4,
 "nbformat_minor": 2
}
