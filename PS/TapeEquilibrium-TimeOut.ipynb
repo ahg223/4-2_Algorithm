{
 "cells": [
  {
   "cell_type": "code",
   "execution_count": null,
   "metadata": {
    "collapsed": true
   },
   "outputs": [],
   "source": [
    "def solution(A):\n",
    "    length=len(A)\n",
    "    int answer\n",
    "    while(length>0):\n",
    "        len1=A[:length]\n",
    "        len2=A[length:]\n",
    "        val1=sum(len1,0.0)\n",
    "        val2=sum(len2,0.0)\n",
    "        result=abs(val1-val2)\n",
    "        if(answer>result):\n",
    "            answer=result\n",
    "    return answer\n",
    "    pass"
   ]
  }
 ],
 "metadata": {
  "kernelspec": {
   "display_name": "Python 3",
   "language": "python",
   "name": "python3"
  },
  "language_info": {
   "codemirror_mode": {
    "name": "ipython",
    "version": 3
   },
   "file_extension": ".py",
   "mimetype": "text/x-python",
   "name": "python",
   "nbconvert_exporter": "python",
   "pygments_lexer": "ipython3",
   "version": "3.6.2"
  }
 },
 "nbformat": 4,
 "nbformat_minor": 2
}
